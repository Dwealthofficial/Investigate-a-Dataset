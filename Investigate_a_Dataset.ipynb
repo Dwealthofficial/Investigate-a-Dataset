{
 "cells": [
  {
   "cell_type": "markdown",
   "id": "654d6fda",
   "metadata": {},
   "source": [
    "# TMBD Movie Data Analysis"
   ]
  },
  {
   "cell_type": "markdown",
   "id": "c9ce2bdc",
   "metadata": {},
   "source": [
    "## Table of Contents"
   ]
  },
  {
   "cell_type": "markdown",
   "id": "74f45118",
   "metadata": {},
   "source": [
    "<ul>\n",
    "<li><a href=\"#intro\">Introduction</a></li>\n",
    "<li><a href=\"#wrangling\">Data Wrangling</a></li>\n",
    "<li><a href=\"#eda\">Exploratory Data Analysis</a></li>\n",
    "<li><a href=\"#conclusions\">Conclusions</a></li>\n",
    "    \n",
    "</ul>"
   ]
  },
  {
   "cell_type": "markdown",
   "id": "3475f8e0",
   "metadata": {},
   "source": [
    "<a id='intro'></a>\n",
    "## Introduction\n",
    "\n",
    "### Dataset Description \n",
    "The TMDB is a CSV file that contains over 10,000 records and 21 dimensions of varied data types.\n",
    "<br>\n",
    "Listed below are the columns and description with respective data types;\n",
    "\n",
    "<br>\n",
    "    * id : identification number - Integer\n",
    "<br>\n",
    "    * imdb_id: internet movie database identification number - String\n",
    "<br>\n",
    "    * popularity: popularity  - Float\n",
    "<br>\n",
    "    * budget: estimated amount to be spent - Integer\n",
    "<br>\n",
    "    * revenue: amount generated - Integer\n",
    "<br>\n",
    "    * original_title: movie title - String \n",
    "<br>\n",
    "    * cast: character's name - String\n",
    "<br>\n",
    "    * homepage: link to watch movie - String\n",
    "<br>\n",
    "    * director: movie director - String\n",
    "<br>\n",
    "    * tagline: short text which serves to clarify an movie idea - String\n",
    "<br>\n",
    "    * keywords: word that are significant in movie - String\n",
    "<br>\n",
    "    * overview: movie summary - String\n",
    "<br>\n",
    "    * runtime: lenght of the movie - String\n",
    "<br>\n",
    "    * genres: movie genre - String\n",
    "<br>\n",
    "    * production_companies: companies that producted the movie  - String \n",
    "<br>\n",
    "    * release_date: movie release date  - String\n",
    "<br>\n",
    "    * vote_count: vote counts -Integer\n",
    "<br>\n",
    "    * vote_average: average vote - Float\n",
    "<br>\n",
    "    * release_year: movie release year -Integer\n",
    "<br>\n",
    "    * budget_adj: budget of the associated movie in terms of 2010 dollars, accounting for inflation over time. - Float\n",
    "<br>\n",
    "    * revenue_ad: revenue of the associated movie in terms of 2010 dollars, accounting for inflation over time. - Float\n",
    "<br>\n",
    "\n",
    "### Questions for Analysis\n",
    "My analysis will be based on answering the below questions;\n",
    "\n",
    "    1. What are the 5 most popular genre?\n",
    "    2. What are the 10 Highest grossing movies?\n",
    "    3. Who are the most featured actors?\n",
    "    4. What the top 10 most profitable movie?\n",
    "    5. What is the sum of profit per year, most profitable year and the least profitable year?\n",
    "    6. What is the average rating per director?\n",
    "    7. What is the average rating per year?\n",
    "    8. What are the most popular movies?\n",
    "    9. What is the number of movies per year?\n"
   ]
  },
  {
   "cell_type": "markdown",
   "id": "e9db68bb",
   "metadata": {},
   "source": [
    "#### Importing Python libraries"
   ]
  },
  {
   "cell_type": "code",
   "execution_count": 1,
   "id": "7111a4b5",
   "metadata": {},
   "outputs": [],
   "source": [
    "#import libaries and a 'magic word'\n",
    "import pandas as pd\n",
    "import numpy as np\n",
    "import matplotlib.pyplot as plt\n",
    "import seaborn as sns\n",
    "%matplotlib inline\n",
    "import matplotlib.ticker as mticker"
   ]
  },
  {
   "cell_type": "markdown",
   "id": "e3fcf768",
   "metadata": {},
   "source": [
    "<a id='wrangling'></a>\n",
    "## Data Wrangling\n",
    "\n",
    "### General Properties"
   ]
  },
  {
   "cell_type": "markdown",
   "id": "c90ff27c",
   "metadata": {},
   "source": [
    "### Load dataset using read_csv() and check dataset properties"
   ]
  },
  {
   "cell_type": "code",
   "execution_count": 2,
   "id": "d8be804b",
   "metadata": {},
   "outputs": [],
   "source": [
    "#load data\n",
    "df = pd.read_csv('tmdb-movies.csv')\n",
    "pd.set_option('display.float_format', lambda x: '%.9f' % x)"
   ]
  },
  {
   "cell_type": "code",
   "execution_count": 3,
   "id": "46bf239d",
   "metadata": {},
   "outputs": [
    {
     "data": {
      "text/plain": [
       "(10866, 21)"
      ]
     },
     "execution_count": 3,
     "metadata": {},
     "output_type": "execute_result"
    }
   ],
   "source": [
    "#check number of rows and columns()\n",
    "df.shape"
   ]
  },
  {
   "cell_type": "code",
   "execution_count": 4,
   "id": "c6fdc220",
   "metadata": {},
   "outputs": [
    {
     "data": {
      "text/html": [
       "<div>\n",
       "<style scoped>\n",
       "    .dataframe tbody tr th:only-of-type {\n",
       "        vertical-align: middle;\n",
       "    }\n",
       "\n",
       "    .dataframe tbody tr th {\n",
       "        vertical-align: top;\n",
       "    }\n",
       "\n",
       "    .dataframe thead th {\n",
       "        text-align: right;\n",
       "    }\n",
       "</style>\n",
       "<table border=\"1\" class=\"dataframe\">\n",
       "  <thead>\n",
       "    <tr style=\"text-align: right;\">\n",
       "      <th></th>\n",
       "      <th>id</th>\n",
       "      <th>imdb_id</th>\n",
       "      <th>popularity</th>\n",
       "      <th>budget</th>\n",
       "      <th>revenue</th>\n",
       "      <th>original_title</th>\n",
       "      <th>cast</th>\n",
       "      <th>homepage</th>\n",
       "      <th>director</th>\n",
       "      <th>tagline</th>\n",
       "      <th>...</th>\n",
       "      <th>overview</th>\n",
       "      <th>runtime</th>\n",
       "      <th>genres</th>\n",
       "      <th>production_companies</th>\n",
       "      <th>release_date</th>\n",
       "      <th>vote_count</th>\n",
       "      <th>vote_average</th>\n",
       "      <th>release_year</th>\n",
       "      <th>budget_adj</th>\n",
       "      <th>revenue_adj</th>\n",
       "    </tr>\n",
       "  </thead>\n",
       "  <tbody>\n",
       "    <tr>\n",
       "      <th>0</th>\n",
       "      <td>135397</td>\n",
       "      <td>tt0369610</td>\n",
       "      <td>32.985763000</td>\n",
       "      <td>150000000</td>\n",
       "      <td>1513528810</td>\n",
       "      <td>Jurassic World</td>\n",
       "      <td>Chris Pratt|Bryce Dallas Howard|Irrfan Khan|Vi...</td>\n",
       "      <td>http://www.jurassicworld.com/</td>\n",
       "      <td>Colin Trevorrow</td>\n",
       "      <td>The park is open.</td>\n",
       "      <td>...</td>\n",
       "      <td>Twenty-two years after the events of Jurassic ...</td>\n",
       "      <td>124</td>\n",
       "      <td>Action|Adventure|Science Fiction|Thriller</td>\n",
       "      <td>Universal Studios|Amblin Entertainment|Legenda...</td>\n",
       "      <td>06/09/2015</td>\n",
       "      <td>5562</td>\n",
       "      <td>6.500000000</td>\n",
       "      <td>2015</td>\n",
       "      <td>137999939.300000012</td>\n",
       "      <td>1392445893.000000000</td>\n",
       "    </tr>\n",
       "    <tr>\n",
       "      <th>1</th>\n",
       "      <td>76341</td>\n",
       "      <td>tt1392190</td>\n",
       "      <td>28.419936000</td>\n",
       "      <td>150000000</td>\n",
       "      <td>378436354</td>\n",
       "      <td>Mad Max: Fury Road</td>\n",
       "      <td>Tom Hardy|Charlize Theron|Hugh Keays-Byrne|Nic...</td>\n",
       "      <td>http://www.madmaxmovie.com/</td>\n",
       "      <td>George Miller</td>\n",
       "      <td>What a Lovely Day.</td>\n",
       "      <td>...</td>\n",
       "      <td>An apocalyptic story set in the furthest reach...</td>\n",
       "      <td>120</td>\n",
       "      <td>Action|Adventure|Science Fiction|Thriller</td>\n",
       "      <td>Village Roadshow Pictures|Kennedy Miller Produ...</td>\n",
       "      <td>5/13/15</td>\n",
       "      <td>6185</td>\n",
       "      <td>7.100000000</td>\n",
       "      <td>2015</td>\n",
       "      <td>137999939.300000012</td>\n",
       "      <td>348161292.500000000</td>\n",
       "    </tr>\n",
       "    <tr>\n",
       "      <th>2</th>\n",
       "      <td>262500</td>\n",
       "      <td>tt2908446</td>\n",
       "      <td>13.112507000</td>\n",
       "      <td>110000000</td>\n",
       "      <td>295238201</td>\n",
       "      <td>Insurgent</td>\n",
       "      <td>Shailene Woodley|Theo James|Kate Winslet|Ansel...</td>\n",
       "      <td>http://www.thedivergentseries.movie/#insurgent</td>\n",
       "      <td>Robert Schwentke</td>\n",
       "      <td>One Choice Can Destroy You</td>\n",
       "      <td>...</td>\n",
       "      <td>Beatrice Prior must confront her inner demons ...</td>\n",
       "      <td>119</td>\n",
       "      <td>Adventure|Science Fiction|Thriller</td>\n",
       "      <td>Summit Entertainment|Mandeville Films|Red Wago...</td>\n",
       "      <td>3/18/15</td>\n",
       "      <td>2480</td>\n",
       "      <td>6.300000000</td>\n",
       "      <td>2015</td>\n",
       "      <td>101199955.500000000</td>\n",
       "      <td>271619025.399999976</td>\n",
       "    </tr>\n",
       "    <tr>\n",
       "      <th>3</th>\n",
       "      <td>140607</td>\n",
       "      <td>tt2488496</td>\n",
       "      <td>11.173104000</td>\n",
       "      <td>200000000</td>\n",
       "      <td>2068178225</td>\n",
       "      <td>Star Wars: The Force Awakens</td>\n",
       "      <td>Harrison Ford|Mark Hamill|Carrie Fisher|Adam D...</td>\n",
       "      <td>http://www.starwars.com/films/star-wars-episod...</td>\n",
       "      <td>J.J. Abrams</td>\n",
       "      <td>Every generation has a story.</td>\n",
       "      <td>...</td>\n",
       "      <td>Thirty years after defeating the Galactic Empi...</td>\n",
       "      <td>136</td>\n",
       "      <td>Action|Adventure|Science Fiction|Fantasy</td>\n",
       "      <td>Lucasfilm|Truenorth Productions|Bad Robot</td>\n",
       "      <td>12/15/15</td>\n",
       "      <td>5292</td>\n",
       "      <td>7.500000000</td>\n",
       "      <td>2015</td>\n",
       "      <td>183999919.000000000</td>\n",
       "      <td>1902723130.000000000</td>\n",
       "    </tr>\n",
       "    <tr>\n",
       "      <th>4</th>\n",
       "      <td>168259</td>\n",
       "      <td>tt2820852</td>\n",
       "      <td>9.335014000</td>\n",
       "      <td>190000000</td>\n",
       "      <td>1506249360</td>\n",
       "      <td>Furious 7</td>\n",
       "      <td>Vin Diesel|Paul Walker|Jason Statham|Michelle ...</td>\n",
       "      <td>http://www.furious7.com/</td>\n",
       "      <td>James Wan</td>\n",
       "      <td>Vengeance Hits Home</td>\n",
       "      <td>...</td>\n",
       "      <td>Deckard Shaw seeks revenge against Dominic Tor...</td>\n",
       "      <td>137</td>\n",
       "      <td>Action|Crime|Thriller</td>\n",
       "      <td>Universal Pictures|Original Film|Media Rights ...</td>\n",
       "      <td>04/01/2015</td>\n",
       "      <td>2947</td>\n",
       "      <td>7.300000000</td>\n",
       "      <td>2015</td>\n",
       "      <td>174799923.099999994</td>\n",
       "      <td>1385748801.000000000</td>\n",
       "    </tr>\n",
       "  </tbody>\n",
       "</table>\n",
       "<p>5 rows × 21 columns</p>\n",
       "</div>"
      ],
      "text/plain": [
       "       id    imdb_id   popularity     budget     revenue  \\\n",
       "0  135397  tt0369610 32.985763000  150000000  1513528810   \n",
       "1   76341  tt1392190 28.419936000  150000000   378436354   \n",
       "2  262500  tt2908446 13.112507000  110000000   295238201   \n",
       "3  140607  tt2488496 11.173104000  200000000  2068178225   \n",
       "4  168259  tt2820852  9.335014000  190000000  1506249360   \n",
       "\n",
       "                 original_title  \\\n",
       "0                Jurassic World   \n",
       "1            Mad Max: Fury Road   \n",
       "2                     Insurgent   \n",
       "3  Star Wars: The Force Awakens   \n",
       "4                     Furious 7   \n",
       "\n",
       "                                                cast  \\\n",
       "0  Chris Pratt|Bryce Dallas Howard|Irrfan Khan|Vi...   \n",
       "1  Tom Hardy|Charlize Theron|Hugh Keays-Byrne|Nic...   \n",
       "2  Shailene Woodley|Theo James|Kate Winslet|Ansel...   \n",
       "3  Harrison Ford|Mark Hamill|Carrie Fisher|Adam D...   \n",
       "4  Vin Diesel|Paul Walker|Jason Statham|Michelle ...   \n",
       "\n",
       "                                            homepage          director  \\\n",
       "0                      http://www.jurassicworld.com/   Colin Trevorrow   \n",
       "1                        http://www.madmaxmovie.com/     George Miller   \n",
       "2     http://www.thedivergentseries.movie/#insurgent  Robert Schwentke   \n",
       "3  http://www.starwars.com/films/star-wars-episod...       J.J. Abrams   \n",
       "4                           http://www.furious7.com/         James Wan   \n",
       "\n",
       "                         tagline  ...  \\\n",
       "0              The park is open.  ...   \n",
       "1             What a Lovely Day.  ...   \n",
       "2     One Choice Can Destroy You  ...   \n",
       "3  Every generation has a story.  ...   \n",
       "4            Vengeance Hits Home  ...   \n",
       "\n",
       "                                            overview runtime  \\\n",
       "0  Twenty-two years after the events of Jurassic ...     124   \n",
       "1  An apocalyptic story set in the furthest reach...     120   \n",
       "2  Beatrice Prior must confront her inner demons ...     119   \n",
       "3  Thirty years after defeating the Galactic Empi...     136   \n",
       "4  Deckard Shaw seeks revenge against Dominic Tor...     137   \n",
       "\n",
       "                                      genres  \\\n",
       "0  Action|Adventure|Science Fiction|Thriller   \n",
       "1  Action|Adventure|Science Fiction|Thriller   \n",
       "2         Adventure|Science Fiction|Thriller   \n",
       "3   Action|Adventure|Science Fiction|Fantasy   \n",
       "4                      Action|Crime|Thriller   \n",
       "\n",
       "                                production_companies release_date vote_count  \\\n",
       "0  Universal Studios|Amblin Entertainment|Legenda...   06/09/2015       5562   \n",
       "1  Village Roadshow Pictures|Kennedy Miller Produ...      5/13/15       6185   \n",
       "2  Summit Entertainment|Mandeville Films|Red Wago...      3/18/15       2480   \n",
       "3          Lucasfilm|Truenorth Productions|Bad Robot     12/15/15       5292   \n",
       "4  Universal Pictures|Original Film|Media Rights ...   04/01/2015       2947   \n",
       "\n",
       "   vote_average  release_year          budget_adj          revenue_adj  \n",
       "0   6.500000000          2015 137999939.300000012 1392445893.000000000  \n",
       "1   7.100000000          2015 137999939.300000012  348161292.500000000  \n",
       "2   6.300000000          2015 101199955.500000000  271619025.399999976  \n",
       "3   7.500000000          2015 183999919.000000000 1902723130.000000000  \n",
       "4   7.300000000          2015 174799923.099999994 1385748801.000000000  \n",
       "\n",
       "[5 rows x 21 columns]"
      ]
     },
     "execution_count": 4,
     "metadata": {},
     "output_type": "execute_result"
    }
   ],
   "source": [
    "#check top rows of the data\n",
    "df.head()"
   ]
  },
  {
   "cell_type": "code",
   "execution_count": 5,
   "id": "77d61d3a",
   "metadata": {},
   "outputs": [
    {
     "name": "stdout",
     "output_type": "stream",
     "text": [
      "<class 'pandas.core.frame.DataFrame'>\n",
      "RangeIndex: 10866 entries, 0 to 10865\n",
      "Data columns (total 21 columns):\n",
      " #   Column                Non-Null Count  Dtype  \n",
      "---  ------                --------------  -----  \n",
      " 0   id                    10866 non-null  int64  \n",
      " 1   imdb_id               10856 non-null  object \n",
      " 2   popularity            10866 non-null  float64\n",
      " 3   budget                10866 non-null  int64  \n",
      " 4   revenue               10866 non-null  int64  \n",
      " 5   original_title        10866 non-null  object \n",
      " 6   cast                  10790 non-null  object \n",
      " 7   homepage              2936 non-null   object \n",
      " 8   director              10822 non-null  object \n",
      " 9   tagline               8042 non-null   object \n",
      " 10  keywords              9373 non-null   object \n",
      " 11  overview              10862 non-null  object \n",
      " 12  runtime               10866 non-null  int64  \n",
      " 13  genres                10843 non-null  object \n",
      " 14  production_companies  9836 non-null   object \n",
      " 15  release_date          10866 non-null  object \n",
      " 16  vote_count            10866 non-null  int64  \n",
      " 17  vote_average          10866 non-null  float64\n",
      " 18  release_year          10866 non-null  int64  \n",
      " 19  budget_adj            10866 non-null  float64\n",
      " 20  revenue_adj           10866 non-null  float64\n",
      "dtypes: float64(4), int64(6), object(11)\n",
      "memory usage: 1.7+ MB\n"
     ]
    }
   ],
   "source": [
    "#check data characteristics\n",
    "df.info()"
   ]
  },
  {
   "cell_type": "code",
   "execution_count": 6,
   "id": "d1706fd9",
   "metadata": {},
   "outputs": [
    {
     "data": {
      "text/html": [
       "<div>\n",
       "<style scoped>\n",
       "    .dataframe tbody tr th:only-of-type {\n",
       "        vertical-align: middle;\n",
       "    }\n",
       "\n",
       "    .dataframe tbody tr th {\n",
       "        vertical-align: top;\n",
       "    }\n",
       "\n",
       "    .dataframe thead th {\n",
       "        text-align: right;\n",
       "    }\n",
       "</style>\n",
       "<table border=\"1\" class=\"dataframe\">\n",
       "  <thead>\n",
       "    <tr style=\"text-align: right;\">\n",
       "      <th></th>\n",
       "      <th>id</th>\n",
       "      <th>popularity</th>\n",
       "      <th>budget</th>\n",
       "      <th>revenue</th>\n",
       "      <th>runtime</th>\n",
       "      <th>vote_count</th>\n",
       "      <th>vote_average</th>\n",
       "      <th>release_year</th>\n",
       "      <th>budget_adj</th>\n",
       "      <th>revenue_adj</th>\n",
       "    </tr>\n",
       "  </thead>\n",
       "  <tbody>\n",
       "    <tr>\n",
       "      <th>count</th>\n",
       "      <td>10866.000000000</td>\n",
       "      <td>10866.000000000</td>\n",
       "      <td>10866.000000000</td>\n",
       "      <td>10866.000000000</td>\n",
       "      <td>10866.000000000</td>\n",
       "      <td>10866.000000000</td>\n",
       "      <td>10866.000000000</td>\n",
       "      <td>10866.000000000</td>\n",
       "      <td>10866.000000000</td>\n",
       "      <td>10866.000000000</td>\n",
       "    </tr>\n",
       "    <tr>\n",
       "      <th>mean</th>\n",
       "      <td>66064.177434198</td>\n",
       "      <td>0.646440952</td>\n",
       "      <td>14625701.094146879</td>\n",
       "      <td>39823319.793392234</td>\n",
       "      <td>102.070863243</td>\n",
       "      <td>217.389747837</td>\n",
       "      <td>5.974921774</td>\n",
       "      <td>2001.322657832</td>\n",
       "      <td>17551039.822900452</td>\n",
       "      <td>51364363.253164716</td>\n",
       "    </tr>\n",
       "    <tr>\n",
       "      <th>std</th>\n",
       "      <td>92130.136560955</td>\n",
       "      <td>1.000184934</td>\n",
       "      <td>30913213.831436194</td>\n",
       "      <td>117003486.582089067</td>\n",
       "      <td>31.381405082</td>\n",
       "      <td>575.619057732</td>\n",
       "      <td>0.935141815</td>\n",
       "      <td>12.812940571</td>\n",
       "      <td>34306155.722930893</td>\n",
       "      <td>144632485.037723243</td>\n",
       "    </tr>\n",
       "    <tr>\n",
       "      <th>min</th>\n",
       "      <td>5.000000000</td>\n",
       "      <td>0.000065000</td>\n",
       "      <td>0.000000000</td>\n",
       "      <td>0.000000000</td>\n",
       "      <td>0.000000000</td>\n",
       "      <td>10.000000000</td>\n",
       "      <td>1.500000000</td>\n",
       "      <td>1960.000000000</td>\n",
       "      <td>0.000000000</td>\n",
       "      <td>0.000000000</td>\n",
       "    </tr>\n",
       "    <tr>\n",
       "      <th>25%</th>\n",
       "      <td>10596.250000000</td>\n",
       "      <td>0.207582750</td>\n",
       "      <td>0.000000000</td>\n",
       "      <td>0.000000000</td>\n",
       "      <td>90.000000000</td>\n",
       "      <td>17.000000000</td>\n",
       "      <td>5.400000000</td>\n",
       "      <td>1995.000000000</td>\n",
       "      <td>0.000000000</td>\n",
       "      <td>0.000000000</td>\n",
       "    </tr>\n",
       "    <tr>\n",
       "      <th>50%</th>\n",
       "      <td>20669.000000000</td>\n",
       "      <td>0.383855500</td>\n",
       "      <td>0.000000000</td>\n",
       "      <td>0.000000000</td>\n",
       "      <td>99.000000000</td>\n",
       "      <td>38.000000000</td>\n",
       "      <td>6.000000000</td>\n",
       "      <td>2006.000000000</td>\n",
       "      <td>0.000000000</td>\n",
       "      <td>0.000000000</td>\n",
       "    </tr>\n",
       "    <tr>\n",
       "      <th>75%</th>\n",
       "      <td>75610.000000000</td>\n",
       "      <td>0.713817000</td>\n",
       "      <td>15000000.000000000</td>\n",
       "      <td>24000000.000000000</td>\n",
       "      <td>111.000000000</td>\n",
       "      <td>145.750000000</td>\n",
       "      <td>6.600000000</td>\n",
       "      <td>2011.000000000</td>\n",
       "      <td>20853251.079999998</td>\n",
       "      <td>33697095.717500001</td>\n",
       "    </tr>\n",
       "    <tr>\n",
       "      <th>max</th>\n",
       "      <td>417859.000000000</td>\n",
       "      <td>32.985763000</td>\n",
       "      <td>425000000.000000000</td>\n",
       "      <td>2781505847.000000000</td>\n",
       "      <td>900.000000000</td>\n",
       "      <td>9767.000000000</td>\n",
       "      <td>9.200000000</td>\n",
       "      <td>2015.000000000</td>\n",
       "      <td>425000000.000000000</td>\n",
       "      <td>2827123750.000000000</td>\n",
       "    </tr>\n",
       "  </tbody>\n",
       "</table>\n",
       "</div>"
      ],
      "text/plain": [
       "                    id      popularity              budget  \\\n",
       "count  10866.000000000 10866.000000000     10866.000000000   \n",
       "mean   66064.177434198     0.646440952  14625701.094146879   \n",
       "std    92130.136560955     1.000184934  30913213.831436194   \n",
       "min        5.000000000     0.000065000         0.000000000   \n",
       "25%    10596.250000000     0.207582750         0.000000000   \n",
       "50%    20669.000000000     0.383855500         0.000000000   \n",
       "75%    75610.000000000     0.713817000  15000000.000000000   \n",
       "max   417859.000000000    32.985763000 425000000.000000000   \n",
       "\n",
       "                   revenue         runtime      vote_count    vote_average  \\\n",
       "count      10866.000000000 10866.000000000 10866.000000000 10866.000000000   \n",
       "mean    39823319.793392234   102.070863243   217.389747837     5.974921774   \n",
       "std    117003486.582089067    31.381405082   575.619057732     0.935141815   \n",
       "min            0.000000000     0.000000000    10.000000000     1.500000000   \n",
       "25%            0.000000000    90.000000000    17.000000000     5.400000000   \n",
       "50%            0.000000000    99.000000000    38.000000000     6.000000000   \n",
       "75%     24000000.000000000   111.000000000   145.750000000     6.600000000   \n",
       "max   2781505847.000000000   900.000000000  9767.000000000     9.200000000   \n",
       "\n",
       "         release_year          budget_adj          revenue_adj  \n",
       "count 10866.000000000     10866.000000000      10866.000000000  \n",
       "mean   2001.322657832  17551039.822900452   51364363.253164716  \n",
       "std      12.812940571  34306155.722930893  144632485.037723243  \n",
       "min    1960.000000000         0.000000000          0.000000000  \n",
       "25%    1995.000000000         0.000000000          0.000000000  \n",
       "50%    2006.000000000         0.000000000          0.000000000  \n",
       "75%    2011.000000000  20853251.079999998   33697095.717500001  \n",
       "max    2015.000000000 425000000.000000000 2827123750.000000000  "
      ]
     },
     "execution_count": 6,
     "metadata": {},
     "output_type": "execute_result"
    }
   ],
   "source": [
    "#check data description\n",
    "df.describe()"
   ]
  },
  {
   "cell_type": "code",
   "execution_count": 7,
   "id": "907e5976",
   "metadata": {},
   "outputs": [
    {
     "data": {
      "text/plain": [
       "id                        int64\n",
       "imdb_id                  object\n",
       "popularity              float64\n",
       "budget                    int64\n",
       "revenue                   int64\n",
       "original_title           object\n",
       "cast                     object\n",
       "homepage                 object\n",
       "director                 object\n",
       "tagline                  object\n",
       "keywords                 object\n",
       "overview                 object\n",
       "runtime                   int64\n",
       "genres                   object\n",
       "production_companies     object\n",
       "release_date             object\n",
       "vote_count                int64\n",
       "vote_average            float64\n",
       "release_year              int64\n",
       "budget_adj              float64\n",
       "revenue_adj             float64\n",
       "dtype: object"
      ]
     },
     "execution_count": 7,
     "metadata": {},
     "output_type": "execute_result"
    }
   ],
   "source": [
    "#check datatypes\n",
    "df.dtypes"
   ]
  },
  {
   "cell_type": "code",
   "execution_count": 8,
   "id": "6f801ea3",
   "metadata": {},
   "outputs": [
    {
     "data": {
      "text/plain": [
       "id                         0\n",
       "imdb_id                   10\n",
       "popularity                 0\n",
       "budget                     0\n",
       "revenue                    0\n",
       "original_title             0\n",
       "cast                      76\n",
       "homepage                7930\n",
       "director                  44\n",
       "tagline                 2824\n",
       "keywords                1493\n",
       "overview                   4\n",
       "runtime                    0\n",
       "genres                    23\n",
       "production_companies    1030\n",
       "release_date               0\n",
       "vote_count                 0\n",
       "vote_average               0\n",
       "release_year               0\n",
       "budget_adj                 0\n",
       "revenue_adj                0\n",
       "dtype: int64"
      ]
     },
     "execution_count": 8,
     "metadata": {},
     "output_type": "execute_result"
    }
   ],
   "source": [
    "#check for null values\n",
    "df.isnull().sum()"
   ]
  },
  {
   "cell_type": "code",
   "execution_count": 9,
   "id": "116d883f",
   "metadata": {},
   "outputs": [
    {
     "data": {
      "text/plain": [
       "1"
      ]
     },
     "execution_count": 9,
     "metadata": {},
     "output_type": "execute_result"
    }
   ],
   "source": [
    "#check for duplicates\n",
    "df.duplicated().sum()"
   ]
  },
  {
   "cell_type": "markdown",
   "id": "5686fcd0",
   "metadata": {},
   "source": [
    "### Data Cleaning\n",
    "\n",
    "After assessing the data, i realized that there are missing values in cast, homepage, director, tagline, keywords, overview, runtime, genres, production_companies, duplicate row and columns not needed for the analysis.\n",
    "\n",
    "I will be do the below listed procedures to clean the data\n",
    "    * drop columns that are specific to movies and won't be needed in the analysis\n",
    "    * drop null values\n",
    "    * drop duplicates\n",
    "    * change all columns with float data type to one decimal place\n",
    "    * rename columns whose names are not explanatory enough \n",
    "    * create new coulumn"
   ]
  },
  {
   "cell_type": "markdown",
   "id": "8886ca53",
   "metadata": {},
   "source": [
    "#### Drop columns"
   ]
  },
  {
   "cell_type": "code",
   "execution_count": 10,
   "id": "03dbf213",
   "metadata": {},
   "outputs": [],
   "source": [
    "#drop columns not needed\n",
    "columns_to_remove = ['id', 'imdb_id', 'homepage', 'tagline', 'keywords', 'overview', 'release_date', 'production_companies', 'budget_adj','revenue_adj']\n",
    "df.drop(columns_to_remove, axis =1, inplace=True)"
   ]
  },
  {
   "cell_type": "code",
   "execution_count": 11,
   "id": "f913c42b",
   "metadata": {},
   "outputs": [
    {
     "data": {
      "text/html": [
       "<div>\n",
       "<style scoped>\n",
       "    .dataframe tbody tr th:only-of-type {\n",
       "        vertical-align: middle;\n",
       "    }\n",
       "\n",
       "    .dataframe tbody tr th {\n",
       "        vertical-align: top;\n",
       "    }\n",
       "\n",
       "    .dataframe thead th {\n",
       "        text-align: right;\n",
       "    }\n",
       "</style>\n",
       "<table border=\"1\" class=\"dataframe\">\n",
       "  <thead>\n",
       "    <tr style=\"text-align: right;\">\n",
       "      <th></th>\n",
       "      <th>popularity</th>\n",
       "      <th>budget</th>\n",
       "      <th>revenue</th>\n",
       "      <th>original_title</th>\n",
       "      <th>cast</th>\n",
       "      <th>director</th>\n",
       "      <th>runtime</th>\n",
       "      <th>genres</th>\n",
       "      <th>vote_count</th>\n",
       "      <th>vote_average</th>\n",
       "      <th>release_year</th>\n",
       "    </tr>\n",
       "  </thead>\n",
       "  <tbody>\n",
       "    <tr>\n",
       "      <th>0</th>\n",
       "      <td>32.985763000</td>\n",
       "      <td>150000000</td>\n",
       "      <td>1513528810</td>\n",
       "      <td>Jurassic World</td>\n",
       "      <td>Chris Pratt|Bryce Dallas Howard|Irrfan Khan|Vi...</td>\n",
       "      <td>Colin Trevorrow</td>\n",
       "      <td>124</td>\n",
       "      <td>Action|Adventure|Science Fiction|Thriller</td>\n",
       "      <td>5562</td>\n",
       "      <td>6.500000000</td>\n",
       "      <td>2015</td>\n",
       "    </tr>\n",
       "    <tr>\n",
       "      <th>1</th>\n",
       "      <td>28.419936000</td>\n",
       "      <td>150000000</td>\n",
       "      <td>378436354</td>\n",
       "      <td>Mad Max: Fury Road</td>\n",
       "      <td>Tom Hardy|Charlize Theron|Hugh Keays-Byrne|Nic...</td>\n",
       "      <td>George Miller</td>\n",
       "      <td>120</td>\n",
       "      <td>Action|Adventure|Science Fiction|Thriller</td>\n",
       "      <td>6185</td>\n",
       "      <td>7.100000000</td>\n",
       "      <td>2015</td>\n",
       "    </tr>\n",
       "    <tr>\n",
       "      <th>2</th>\n",
       "      <td>13.112507000</td>\n",
       "      <td>110000000</td>\n",
       "      <td>295238201</td>\n",
       "      <td>Insurgent</td>\n",
       "      <td>Shailene Woodley|Theo James|Kate Winslet|Ansel...</td>\n",
       "      <td>Robert Schwentke</td>\n",
       "      <td>119</td>\n",
       "      <td>Adventure|Science Fiction|Thriller</td>\n",
       "      <td>2480</td>\n",
       "      <td>6.300000000</td>\n",
       "      <td>2015</td>\n",
       "    </tr>\n",
       "    <tr>\n",
       "      <th>3</th>\n",
       "      <td>11.173104000</td>\n",
       "      <td>200000000</td>\n",
       "      <td>2068178225</td>\n",
       "      <td>Star Wars: The Force Awakens</td>\n",
       "      <td>Harrison Ford|Mark Hamill|Carrie Fisher|Adam D...</td>\n",
       "      <td>J.J. Abrams</td>\n",
       "      <td>136</td>\n",
       "      <td>Action|Adventure|Science Fiction|Fantasy</td>\n",
       "      <td>5292</td>\n",
       "      <td>7.500000000</td>\n",
       "      <td>2015</td>\n",
       "    </tr>\n",
       "    <tr>\n",
       "      <th>4</th>\n",
       "      <td>9.335014000</td>\n",
       "      <td>190000000</td>\n",
       "      <td>1506249360</td>\n",
       "      <td>Furious 7</td>\n",
       "      <td>Vin Diesel|Paul Walker|Jason Statham|Michelle ...</td>\n",
       "      <td>James Wan</td>\n",
       "      <td>137</td>\n",
       "      <td>Action|Crime|Thriller</td>\n",
       "      <td>2947</td>\n",
       "      <td>7.300000000</td>\n",
       "      <td>2015</td>\n",
       "    </tr>\n",
       "  </tbody>\n",
       "</table>\n",
       "</div>"
      ],
      "text/plain": [
       "    popularity     budget     revenue                original_title  \\\n",
       "0 32.985763000  150000000  1513528810                Jurassic World   \n",
       "1 28.419936000  150000000   378436354            Mad Max: Fury Road   \n",
       "2 13.112507000  110000000   295238201                     Insurgent   \n",
       "3 11.173104000  200000000  2068178225  Star Wars: The Force Awakens   \n",
       "4  9.335014000  190000000  1506249360                     Furious 7   \n",
       "\n",
       "                                                cast          director  \\\n",
       "0  Chris Pratt|Bryce Dallas Howard|Irrfan Khan|Vi...   Colin Trevorrow   \n",
       "1  Tom Hardy|Charlize Theron|Hugh Keays-Byrne|Nic...     George Miller   \n",
       "2  Shailene Woodley|Theo James|Kate Winslet|Ansel...  Robert Schwentke   \n",
       "3  Harrison Ford|Mark Hamill|Carrie Fisher|Adam D...       J.J. Abrams   \n",
       "4  Vin Diesel|Paul Walker|Jason Statham|Michelle ...         James Wan   \n",
       "\n",
       "   runtime                                     genres  vote_count  \\\n",
       "0      124  Action|Adventure|Science Fiction|Thriller        5562   \n",
       "1      120  Action|Adventure|Science Fiction|Thriller        6185   \n",
       "2      119         Adventure|Science Fiction|Thriller        2480   \n",
       "3      136   Action|Adventure|Science Fiction|Fantasy        5292   \n",
       "4      137                      Action|Crime|Thriller        2947   \n",
       "\n",
       "   vote_average  release_year  \n",
       "0   6.500000000          2015  \n",
       "1   7.100000000          2015  \n",
       "2   6.300000000          2015  \n",
       "3   7.500000000          2015  \n",
       "4   7.300000000          2015  "
      ]
     },
     "execution_count": 11,
     "metadata": {},
     "output_type": "execute_result"
    }
   ],
   "source": [
    "#confirm columns have been removed\n",
    "df.head()"
   ]
  },
  {
   "cell_type": "markdown",
   "id": "c3a955f4",
   "metadata": {},
   "source": [
    "#### Remove null values"
   ]
  },
  {
   "cell_type": "code",
   "execution_count": 12,
   "id": "7de6a6ab",
   "metadata": {},
   "outputs": [],
   "source": [
    "#drop null values\n",
    "df.dropna(inplace =True)"
   ]
  },
  {
   "cell_type": "code",
   "execution_count": 13,
   "id": "90a51f2e",
   "metadata": {},
   "outputs": [
    {
     "name": "stdout",
     "output_type": "stream",
     "text": [
      "<class 'pandas.core.frame.DataFrame'>\n",
      "Int64Index: 10732 entries, 0 to 10865\n",
      "Data columns (total 11 columns):\n",
      " #   Column          Non-Null Count  Dtype  \n",
      "---  ------          --------------  -----  \n",
      " 0   popularity      10732 non-null  float64\n",
      " 1   budget          10732 non-null  int64  \n",
      " 2   revenue         10732 non-null  int64  \n",
      " 3   original_title  10732 non-null  object \n",
      " 4   cast            10732 non-null  object \n",
      " 5   director        10732 non-null  object \n",
      " 6   runtime         10732 non-null  int64  \n",
      " 7   genres          10732 non-null  object \n",
      " 8   vote_count      10732 non-null  int64  \n",
      " 9   vote_average    10732 non-null  float64\n",
      " 10  release_year    10732 non-null  int64  \n",
      "dtypes: float64(2), int64(5), object(4)\n",
      "memory usage: 1006.1+ KB\n"
     ]
    }
   ],
   "source": [
    "#comfirm all null values are dropped\n",
    "df.info()"
   ]
  },
  {
   "cell_type": "markdown",
   "id": "16d54e54",
   "metadata": {},
   "source": [
    "#### Remove duplicates"
   ]
  },
  {
   "cell_type": "code",
   "execution_count": 14,
   "id": "3f1f6f02",
   "metadata": {},
   "outputs": [],
   "source": [
    "#drop duplicates\n",
    "df.drop_duplicates(inplace=True)"
   ]
  },
  {
   "cell_type": "code",
   "execution_count": 15,
   "id": "0940fd04",
   "metadata": {},
   "outputs": [
    {
     "data": {
      "text/plain": [
       "0"
      ]
     },
     "execution_count": 15,
     "metadata": {},
     "output_type": "execute_result"
    }
   ],
   "source": [
    "#confirm duplicates are dropped\n",
    "df.duplicated().sum()"
   ]
  },
  {
   "cell_type": "markdown",
   "id": "9edec62a",
   "metadata": {},
   "source": [
    "#### Change float columns to one decimal place"
   ]
  },
  {
   "cell_type": "code",
   "execution_count": 16,
   "id": "78c0089a",
   "metadata": {},
   "outputs": [],
   "source": [
    "#change all float columns to one decimal place\n",
    "pd.options.display.float_format = '{:.1f}'.format"
   ]
  },
  {
   "cell_type": "code",
   "execution_count": 17,
   "id": "9151aa15",
   "metadata": {},
   "outputs": [
    {
     "data": {
      "text/html": [
       "<div>\n",
       "<style scoped>\n",
       "    .dataframe tbody tr th:only-of-type {\n",
       "        vertical-align: middle;\n",
       "    }\n",
       "\n",
       "    .dataframe tbody tr th {\n",
       "        vertical-align: top;\n",
       "    }\n",
       "\n",
       "    .dataframe thead th {\n",
       "        text-align: right;\n",
       "    }\n",
       "</style>\n",
       "<table border=\"1\" class=\"dataframe\">\n",
       "  <thead>\n",
       "    <tr style=\"text-align: right;\">\n",
       "      <th></th>\n",
       "      <th>popularity</th>\n",
       "      <th>budget</th>\n",
       "      <th>revenue</th>\n",
       "      <th>original_title</th>\n",
       "      <th>cast</th>\n",
       "      <th>director</th>\n",
       "      <th>runtime</th>\n",
       "      <th>genres</th>\n",
       "      <th>vote_count</th>\n",
       "      <th>vote_average</th>\n",
       "      <th>release_year</th>\n",
       "    </tr>\n",
       "  </thead>\n",
       "  <tbody>\n",
       "    <tr>\n",
       "      <th>0</th>\n",
       "      <td>33.0</td>\n",
       "      <td>150000000</td>\n",
       "      <td>1513528810</td>\n",
       "      <td>Jurassic World</td>\n",
       "      <td>Chris Pratt|Bryce Dallas Howard|Irrfan Khan|Vi...</td>\n",
       "      <td>Colin Trevorrow</td>\n",
       "      <td>124</td>\n",
       "      <td>Action|Adventure|Science Fiction|Thriller</td>\n",
       "      <td>5562</td>\n",
       "      <td>6.5</td>\n",
       "      <td>2015</td>\n",
       "    </tr>\n",
       "    <tr>\n",
       "      <th>1</th>\n",
       "      <td>28.4</td>\n",
       "      <td>150000000</td>\n",
       "      <td>378436354</td>\n",
       "      <td>Mad Max: Fury Road</td>\n",
       "      <td>Tom Hardy|Charlize Theron|Hugh Keays-Byrne|Nic...</td>\n",
       "      <td>George Miller</td>\n",
       "      <td>120</td>\n",
       "      <td>Action|Adventure|Science Fiction|Thriller</td>\n",
       "      <td>6185</td>\n",
       "      <td>7.1</td>\n",
       "      <td>2015</td>\n",
       "    </tr>\n",
       "    <tr>\n",
       "      <th>2</th>\n",
       "      <td>13.1</td>\n",
       "      <td>110000000</td>\n",
       "      <td>295238201</td>\n",
       "      <td>Insurgent</td>\n",
       "      <td>Shailene Woodley|Theo James|Kate Winslet|Ansel...</td>\n",
       "      <td>Robert Schwentke</td>\n",
       "      <td>119</td>\n",
       "      <td>Adventure|Science Fiction|Thriller</td>\n",
       "      <td>2480</td>\n",
       "      <td>6.3</td>\n",
       "      <td>2015</td>\n",
       "    </tr>\n",
       "    <tr>\n",
       "      <th>3</th>\n",
       "      <td>11.2</td>\n",
       "      <td>200000000</td>\n",
       "      <td>2068178225</td>\n",
       "      <td>Star Wars: The Force Awakens</td>\n",
       "      <td>Harrison Ford|Mark Hamill|Carrie Fisher|Adam D...</td>\n",
       "      <td>J.J. Abrams</td>\n",
       "      <td>136</td>\n",
       "      <td>Action|Adventure|Science Fiction|Fantasy</td>\n",
       "      <td>5292</td>\n",
       "      <td>7.5</td>\n",
       "      <td>2015</td>\n",
       "    </tr>\n",
       "    <tr>\n",
       "      <th>4</th>\n",
       "      <td>9.3</td>\n",
       "      <td>190000000</td>\n",
       "      <td>1506249360</td>\n",
       "      <td>Furious 7</td>\n",
       "      <td>Vin Diesel|Paul Walker|Jason Statham|Michelle ...</td>\n",
       "      <td>James Wan</td>\n",
       "      <td>137</td>\n",
       "      <td>Action|Crime|Thriller</td>\n",
       "      <td>2947</td>\n",
       "      <td>7.3</td>\n",
       "      <td>2015</td>\n",
       "    </tr>\n",
       "  </tbody>\n",
       "</table>\n",
       "</div>"
      ],
      "text/plain": [
       "   popularity     budget     revenue                original_title  \\\n",
       "0        33.0  150000000  1513528810                Jurassic World   \n",
       "1        28.4  150000000   378436354            Mad Max: Fury Road   \n",
       "2        13.1  110000000   295238201                     Insurgent   \n",
       "3        11.2  200000000  2068178225  Star Wars: The Force Awakens   \n",
       "4         9.3  190000000  1506249360                     Furious 7   \n",
       "\n",
       "                                                cast          director  \\\n",
       "0  Chris Pratt|Bryce Dallas Howard|Irrfan Khan|Vi...   Colin Trevorrow   \n",
       "1  Tom Hardy|Charlize Theron|Hugh Keays-Byrne|Nic...     George Miller   \n",
       "2  Shailene Woodley|Theo James|Kate Winslet|Ansel...  Robert Schwentke   \n",
       "3  Harrison Ford|Mark Hamill|Carrie Fisher|Adam D...       J.J. Abrams   \n",
       "4  Vin Diesel|Paul Walker|Jason Statham|Michelle ...         James Wan   \n",
       "\n",
       "   runtime                                     genres  vote_count  \\\n",
       "0      124  Action|Adventure|Science Fiction|Thriller        5562   \n",
       "1      120  Action|Adventure|Science Fiction|Thriller        6185   \n",
       "2      119         Adventure|Science Fiction|Thriller        2480   \n",
       "3      136   Action|Adventure|Science Fiction|Fantasy        5292   \n",
       "4      137                      Action|Crime|Thriller        2947   \n",
       "\n",
       "   vote_average  release_year  \n",
       "0           6.5          2015  \n",
       "1           7.1          2015  \n",
       "2           6.3          2015  \n",
       "3           7.5          2015  \n",
       "4           7.3          2015  "
      ]
     },
     "execution_count": 17,
     "metadata": {},
     "output_type": "execute_result"
    }
   ],
   "source": [
    "#check decimal place change\n",
    "df.head()"
   ]
  },
  {
   "cell_type": "markdown",
   "id": "45f6312f",
   "metadata": {},
   "source": [
    "#### Rename Columns"
   ]
  },
  {
   "cell_type": "code",
   "execution_count": 18,
   "id": "8d81da4f",
   "metadata": {},
   "outputs": [],
   "source": [
    "#rename columns\n",
    "df.rename(columns ={'vote_average' : 'rating','original_title':'movie_title'},inplace=True)"
   ]
  },
  {
   "cell_type": "code",
   "execution_count": 19,
   "id": "cee981b3",
   "metadata": {},
   "outputs": [
    {
     "name": "stdout",
     "output_type": "stream",
     "text": [
      "<class 'pandas.core.frame.DataFrame'>\n",
      "Int64Index: 10731 entries, 0 to 10865\n",
      "Data columns (total 11 columns):\n",
      " #   Column        Non-Null Count  Dtype  \n",
      "---  ------        --------------  -----  \n",
      " 0   popularity    10731 non-null  float64\n",
      " 1   budget        10731 non-null  int64  \n",
      " 2   revenue       10731 non-null  int64  \n",
      " 3   movie_title   10731 non-null  object \n",
      " 4   cast          10731 non-null  object \n",
      " 5   director      10731 non-null  object \n",
      " 6   runtime       10731 non-null  int64  \n",
      " 7   genres        10731 non-null  object \n",
      " 8   vote_count    10731 non-null  int64  \n",
      " 9   rating        10731 non-null  float64\n",
      " 10  release_year  10731 non-null  int64  \n",
      "dtypes: float64(2), int64(5), object(4)\n",
      "memory usage: 1006.0+ KB\n"
     ]
    }
   ],
   "source": [
    "#check columns new names\n",
    "df.info()"
   ]
  },
  {
   "cell_type": "markdown",
   "id": "d4883602",
   "metadata": {},
   "source": [
    "#### Create new column"
   ]
  },
  {
   "cell_type": "code",
   "execution_count": 20,
   "id": "d92ff0ca",
   "metadata": {},
   "outputs": [],
   "source": [
    "#create new column for profit\n",
    "df['profit'] = df['revenue'] - df['budget']"
   ]
  },
  {
   "cell_type": "code",
   "execution_count": 21,
   "id": "bc746871",
   "metadata": {},
   "outputs": [
    {
     "name": "stdout",
     "output_type": "stream",
     "text": [
      "<class 'pandas.core.frame.DataFrame'>\n",
      "Int64Index: 10731 entries, 0 to 10865\n",
      "Data columns (total 12 columns):\n",
      " #   Column        Non-Null Count  Dtype  \n",
      "---  ------        --------------  -----  \n",
      " 0   popularity    10731 non-null  float64\n",
      " 1   budget        10731 non-null  int64  \n",
      " 2   revenue       10731 non-null  int64  \n",
      " 3   movie_title   10731 non-null  object \n",
      " 4   cast          10731 non-null  object \n",
      " 5   director      10731 non-null  object \n",
      " 6   runtime       10731 non-null  int64  \n",
      " 7   genres        10731 non-null  object \n",
      " 8   vote_count    10731 non-null  int64  \n",
      " 9   rating        10731 non-null  float64\n",
      " 10  release_year  10731 non-null  int64  \n",
      " 11  profit        10731 non-null  int64  \n",
      "dtypes: float64(2), int64(6), object(4)\n",
      "memory usage: 1.1+ MB\n"
     ]
    }
   ],
   "source": [
    "#check updated columns\n",
    "df.info()"
   ]
  },
  {
   "cell_type": "markdown",
   "id": "2ddb9fc6",
   "metadata": {},
   "source": [
    "<a id='eda'></a>\n",
    "## Exploratory Data Analysis"
   ]
  },
  {
   "cell_type": "markdown",
   "id": "77a75623",
   "metadata": {},
   "source": [
    "### Explore the dataset"
   ]
  },
  {
   "cell_type": "code",
   "execution_count": 22,
   "id": "abfc5269",
   "metadata": {},
   "outputs": [
    {
     "data": {
      "image/png": "[encoded data removed]",
      "text/plain": [
       "<Figure size 1440x1152 with 9 Axes>"
      ]
     },
     "metadata": {
      "needs_background": "light"
     },
     "output_type": "display_data"
    }
   ],
   "source": [
    "#Explore the dataset\n",
    "df.hist(figsize=(20,16));"
   ]
  },
  {
   "cell_type": "markdown",
   "id": "d53af9f3",
   "metadata": {},
   "source": [
    "### Correlation Analysis"
   ]
  },
  {
   "cell_type": "code",
   "execution_count": 23,
   "id": "ba27c1cd",
   "metadata": {},
   "outputs": [
    {
     "data": {
      "image/png": "[encoded data removed]",
      "text/plain": [
       "<Figure size 1296x1296 with 2 Axes>"
      ]
     },
     "metadata": {
      "needs_background": "light"
     },
     "output_type": "display_data"
    },
    {
     "data": {
      "text/html": [
       "<div>\n",
       "<style scoped>\n",
       "    .dataframe tbody tr th:only-of-type {\n",
       "        vertical-align: middle;\n",
       "    }\n",
       "\n",
       "    .dataframe tbody tr th {\n",
       "        vertical-align: top;\n",
       "    }\n",
       "\n",
       "    .dataframe thead th {\n",
       "        text-align: right;\n",
       "    }\n",
       "</style>\n",
       "<table border=\"1\" class=\"dataframe\">\n",
       "  <thead>\n",
       "    <tr style=\"text-align: right;\">\n",
       "      <th></th>\n",
       "      <th>popularity</th>\n",
       "      <th>budget</th>\n",
       "      <th>revenue</th>\n",
       "      <th>runtime</th>\n",
       "      <th>vote_count</th>\n",
       "      <th>rating</th>\n",
       "      <th>release_year</th>\n",
       "      <th>profit</th>\n",
       "    </tr>\n",
       "  </thead>\n",
       "  <tbody>\n",
       "    <tr>\n",
       "      <th>popularity</th>\n",
       "      <td>1.0</td>\n",
       "      <td>0.5</td>\n",
       "      <td>0.7</td>\n",
       "      <td>0.1</td>\n",
       "      <td>0.8</td>\n",
       "      <td>0.2</td>\n",
       "      <td>0.1</td>\n",
       "      <td>0.6</td>\n",
       "    </tr>\n",
       "    <tr>\n",
       "      <th>budget</th>\n",
       "      <td>0.5</td>\n",
       "      <td>1.0</td>\n",
       "      <td>0.7</td>\n",
       "      <td>0.2</td>\n",
       "      <td>0.6</td>\n",
       "      <td>0.1</td>\n",
       "      <td>0.1</td>\n",
       "      <td>0.6</td>\n",
       "    </tr>\n",
       "    <tr>\n",
       "      <th>revenue</th>\n",
       "      <td>0.7</td>\n",
       "      <td>0.7</td>\n",
       "      <td>1.0</td>\n",
       "      <td>0.2</td>\n",
       "      <td>0.8</td>\n",
       "      <td>0.2</td>\n",
       "      <td>0.1</td>\n",
       "      <td>1.0</td>\n",
       "    </tr>\n",
       "    <tr>\n",
       "      <th>runtime</th>\n",
       "      <td>0.1</td>\n",
       "      <td>0.2</td>\n",
       "      <td>0.2</td>\n",
       "      <td>1.0</td>\n",
       "      <td>0.2</td>\n",
       "      <td>0.2</td>\n",
       "      <td>-0.1</td>\n",
       "      <td>0.1</td>\n",
       "    </tr>\n",
       "    <tr>\n",
       "      <th>vote_count</th>\n",
       "      <td>0.8</td>\n",
       "      <td>0.6</td>\n",
       "      <td>0.8</td>\n",
       "      <td>0.2</td>\n",
       "      <td>1.0</td>\n",
       "      <td>0.3</td>\n",
       "      <td>0.1</td>\n",
       "      <td>0.8</td>\n",
       "    </tr>\n",
       "    <tr>\n",
       "      <th>rating</th>\n",
       "      <td>0.2</td>\n",
       "      <td>0.1</td>\n",
       "      <td>0.2</td>\n",
       "      <td>0.2</td>\n",
       "      <td>0.3</td>\n",
       "      <td>1.0</td>\n",
       "      <td>-0.1</td>\n",
       "      <td>0.2</td>\n",
       "    </tr>\n",
       "    <tr>\n",
       "      <th>release_year</th>\n",
       "      <td>0.1</td>\n",
       "      <td>0.1</td>\n",
       "      <td>0.1</td>\n",
       "      <td>-0.1</td>\n",
       "      <td>0.1</td>\n",
       "      <td>-0.1</td>\n",
       "      <td>1.0</td>\n",
       "      <td>0.0</td>\n",
       "    </tr>\n",
       "    <tr>\n",
       "      <th>profit</th>\n",
       "      <td>0.6</td>\n",
       "      <td>0.6</td>\n",
       "      <td>1.0</td>\n",
       "      <td>0.1</td>\n",
       "      <td>0.8</td>\n",
       "      <td>0.2</td>\n",
       "      <td>0.0</td>\n",
       "      <td>1.0</td>\n",
       "    </tr>\n",
       "  </tbody>\n",
       "</table>\n",
       "</div>"
      ],
      "text/plain": [
       "              popularity  budget  revenue  runtime  vote_count  rating  \\\n",
       "popularity           1.0     0.5      0.7      0.1         0.8     0.2   \n",
       "budget               0.5     1.0      0.7      0.2         0.6     0.1   \n",
       "revenue              0.7     0.7      1.0      0.2         0.8     0.2   \n",
       "runtime              0.1     0.2      0.2      1.0         0.2     0.2   \n",
       "vote_count           0.8     0.6      0.8      0.2         1.0     0.3   \n",
       "rating               0.2     0.1      0.2      0.2         0.3     1.0   \n",
       "release_year         0.1     0.1      0.1     -0.1         0.1    -0.1   \n",
       "profit               0.6     0.6      1.0      0.1         0.8     0.2   \n",
       "\n",
       "              release_year  profit  \n",
       "popularity             0.1     0.6  \n",
       "budget                 0.1     0.6  \n",
       "revenue                0.1     1.0  \n",
       "runtime               -0.1     0.1  \n",
       "vote_count             0.1     0.8  \n",
       "rating                -0.1     0.2  \n",
       "release_year           1.0     0.0  \n",
       "profit                 0.0     1.0  "
      ]
     },
     "execution_count": 23,
     "metadata": {},
     "output_type": "execute_result"
    }
   ],
   "source": [
    "#Get overview of dataset\n",
    "f,ax = plt.subplots(figsize=(18, 18))\n",
    "sns.heatmap(df.corr(), cmap = 'bone', annot=True, linewidths=.5, fmt= '.2f',ax=ax);\n",
    "plt.title('Dataset Overview');\n",
    "plt.show()\n",
    "df.corr()"
   ]
  },
  {
   "cell_type": "markdown",
   "id": "d66304fa",
   "metadata": {},
   "source": [
    "#### Create a function to invoke whenever I want to plot that a scatter plot"
   ]
  },
  {
   "cell_type": "code",
   "execution_count": 24,
   "id": "def2480e",
   "metadata": {},
   "outputs": [],
   "source": [
    "def scatterplot(x_data, y_data, x_label=\"\", y_label=\"\", title=\"\", color = \"r\"):\n",
    "    _, ax = plt.subplots()\n",
    "    ax.scatter(x_data, y_data, s = 30, color = color)\n",
    "    ax.set_title(title)\n",
    "    ax.set_xlabel(x_label)\n",
    "    ax.set_ylabel(y_label)"
   ]
  },
  {
   "cell_type": "markdown",
   "id": "4bd97122",
   "metadata": {},
   "source": [
    "#### Relationship between popularity and rating"
   ]
  },
  {
   "cell_type": "code",
   "execution_count": 25,
   "id": "3293e0d5",
   "metadata": {},
   "outputs": [
    {
     "data": {
      "text/html": [
       "<div>\n",
       "<style scoped>\n",
       "    .dataframe tbody tr th:only-of-type {\n",
       "        vertical-align: middle;\n",
       "    }\n",
       "\n",
       "    .dataframe tbody tr th {\n",
       "        vertical-align: top;\n",
       "    }\n",
       "\n",
       "    .dataframe thead th {\n",
       "        text-align: right;\n",
       "    }\n",
       "</style>\n",
       "<table border=\"1\" class=\"dataframe\">\n",
       "  <thead>\n",
       "    <tr style=\"text-align: right;\">\n",
       "      <th></th>\n",
       "      <th>popularity</th>\n",
       "      <th>rating</th>\n",
       "    </tr>\n",
       "  </thead>\n",
       "  <tbody>\n",
       "    <tr>\n",
       "      <th>popularity</th>\n",
       "      <td>1.0</td>\n",
       "      <td>0.2</td>\n",
       "    </tr>\n",
       "    <tr>\n",
       "      <th>rating</th>\n",
       "      <td>0.2</td>\n",
       "      <td>1.0</td>\n",
       "    </tr>\n",
       "  </tbody>\n",
       "</table>\n",
       "</div>"
      ],
      "text/plain": [
       "            popularity  rating\n",
       "popularity         1.0     0.2\n",
       "rating             0.2     1.0"
      ]
     },
     "execution_count": 25,
     "metadata": {},
     "output_type": "execute_result"
    },
    {
     "data": {
      "image/png": "[encoded data removed]",
      "text/plain": [
       "<Figure size 432x288 with 1 Axes>"
      ]
     },
     "metadata": {
      "needs_background": "light"
     },
     "output_type": "display_data"
    }
   ],
   "source": [
    "scatterplot(df['popularity'],df['rating'],'Popularity','Rating','Popularity Vs. Rating', 'green')\n",
    "df[['popularity', 'rating']].corr()"
   ]
  },
  {
   "cell_type": "markdown",
   "id": "db77ae1d",
   "metadata": {},
   "source": [
    "Positive relationship: Pearson r = 0.2"
   ]
  },
  {
   "cell_type": "markdown",
   "id": "7c976c12",
   "metadata": {},
   "source": [
    "#### Relationship between rating and revenue_generated"
   ]
  },
  {
   "cell_type": "code",
   "execution_count": 26,
   "id": "2afbde5b",
   "metadata": {},
   "outputs": [
    {
     "data": {
      "text/html": [
       "<div>\n",
       "<style scoped>\n",
       "    .dataframe tbody tr th:only-of-type {\n",
       "        vertical-align: middle;\n",
       "    }\n",
       "\n",
       "    .dataframe tbody tr th {\n",
       "        vertical-align: top;\n",
       "    }\n",
       "\n",
       "    .dataframe thead th {\n",
       "        text-align: right;\n",
       "    }\n",
       "</style>\n",
       "<table border=\"1\" class=\"dataframe\">\n",
       "  <thead>\n",
       "    <tr style=\"text-align: right;\">\n",
       "      <th></th>\n",
       "      <th>rating</th>\n",
       "      <th>revenue</th>\n",
       "    </tr>\n",
       "  </thead>\n",
       "  <tbody>\n",
       "    <tr>\n",
       "      <th>rating</th>\n",
       "      <td>1.0</td>\n",
       "      <td>0.2</td>\n",
       "    </tr>\n",
       "    <tr>\n",
       "      <th>revenue</th>\n",
       "      <td>0.2</td>\n",
       "      <td>1.0</td>\n",
       "    </tr>\n",
       "  </tbody>\n",
       "</table>\n",
       "</div>"
      ],
      "text/plain": [
       "         rating  revenue\n",
       "rating      1.0      0.2\n",
       "revenue     0.2      1.0"
      ]
     },
     "execution_count": 26,
     "metadata": {},
     "output_type": "execute_result"
    },
    {
     "data": {
      "image/png": "[encoded data removed]",
      "text/plain": [
       "<Figure size 432x288 with 1 Axes>"
      ]
     },
     "metadata": {
      "needs_background": "light"
     },
     "output_type": "display_data"
    }
   ],
   "source": [
    "scatterplot(df['rating'],df['revenue'],'Rating','Revenue','Rating Vs. Revenue', 'purple')\n",
    "df[['rating', 'revenue']].corr()"
   ]
  },
  {
   "cell_type": "markdown",
   "id": "0e2db609",
   "metadata": {},
   "source": [
    "Positive relationship: Pearson r = 0.2"
   ]
  },
  {
   "cell_type": "markdown",
   "id": "eec95729",
   "metadata": {},
   "source": [
    "#### Relationship between budget and revenue_generated"
   ]
  },
  {
   "cell_type": "code",
   "execution_count": 27,
   "id": "9909e71e",
   "metadata": {},
   "outputs": [
    {
     "data": {
      "text/html": [
       "<div>\n",
       "<style scoped>\n",
       "    .dataframe tbody tr th:only-of-type {\n",
       "        vertical-align: middle;\n",
       "    }\n",
       "\n",
       "    .dataframe tbody tr th {\n",
       "        vertical-align: top;\n",
       "    }\n",
       "\n",
       "    .dataframe thead th {\n",
       "        text-align: right;\n",
       "    }\n",
       "</style>\n",
       "<table border=\"1\" class=\"dataframe\">\n",
       "  <thead>\n",
       "    <tr style=\"text-align: right;\">\n",
       "      <th></th>\n",
       "      <th>budget</th>\n",
       "      <th>revenue</th>\n",
       "    </tr>\n",
       "  </thead>\n",
       "  <tbody>\n",
       "    <tr>\n",
       "      <th>budget</th>\n",
       "      <td>1.0</td>\n",
       "      <td>0.7</td>\n",
       "    </tr>\n",
       "    <tr>\n",
       "      <th>revenue</th>\n",
       "      <td>0.7</td>\n",
       "      <td>1.0</td>\n",
       "    </tr>\n",
       "  </tbody>\n",
       "</table>\n",
       "</div>"
      ],
      "text/plain": [
       "         budget  revenue\n",
       "budget      1.0      0.7\n",
       "revenue     0.7      1.0"
      ]
     },
     "execution_count": 27,
     "metadata": {},
     "output_type": "execute_result"
    },
    {
     "data": {
      "image/png": "[encoded data removed]",
      "text/plain": [
       "<Figure size 432x288 with 1 Axes>"
      ]
     },
     "metadata": {
      "needs_background": "light"
     },
     "output_type": "display_data"
    }
   ],
   "source": [
    "scatterplot(df['budget'],df['revenue'],'Budget','Revenue','Budget Vs. Revenue', 'blue')\n",
    "df[['budget', 'revenue']].corr()"
   ]
  },
  {
   "cell_type": "markdown",
   "id": "0babedc8",
   "metadata": {},
   "source": [
    "Largely positive relationship: Pearson r = 0.7"
   ]
  },
  {
   "cell_type": "markdown",
   "id": "988efb34",
   "metadata": {},
   "source": [
    "#### Relationship between popularity and production_cost"
   ]
  },
  {
   "cell_type": "code",
   "execution_count": 28,
   "id": "e12b8d25",
   "metadata": {},
   "outputs": [
    {
     "data": {
      "text/html": [
       "<div>\n",
       "<style scoped>\n",
       "    .dataframe tbody tr th:only-of-type {\n",
       "        vertical-align: middle;\n",
       "    }\n",
       "\n",
       "    .dataframe tbody tr th {\n",
       "        vertical-align: top;\n",
       "    }\n",
       "\n",
       "    .dataframe thead th {\n",
       "        text-align: right;\n",
       "    }\n",
       "</style>\n",
       "<table border=\"1\" class=\"dataframe\">\n",
       "  <thead>\n",
       "    <tr style=\"text-align: right;\">\n",
       "      <th></th>\n",
       "      <th>popularity</th>\n",
       "      <th>budget</th>\n",
       "    </tr>\n",
       "  </thead>\n",
       "  <tbody>\n",
       "    <tr>\n",
       "      <th>popularity</th>\n",
       "      <td>1.0</td>\n",
       "      <td>0.5</td>\n",
       "    </tr>\n",
       "    <tr>\n",
       "      <th>budget</th>\n",
       "      <td>0.5</td>\n",
       "      <td>1.0</td>\n",
       "    </tr>\n",
       "  </tbody>\n",
       "</table>\n",
       "</div>"
      ],
      "text/plain": [
       "            popularity  budget\n",
       "popularity         1.0     0.5\n",
       "budget             0.5     1.0"
      ]
     },
     "execution_count": 28,
     "metadata": {},
     "output_type": "execute_result"
    },
    {
     "data": {
      "image/png": "[encoded data removed]",
      "text/plain": [
       "<Figure size 432x288 with 1 Axes>"
      ]
     },
     "metadata": {
      "needs_background": "light"
     },
     "output_type": "display_data"
    }
   ],
   "source": [
    "scatterplot(df['popularity'],df['budget'],'Popularity','Budget','Popularity Vs. Budget', 'Orange')\n",
    "df[['popularity', 'budget']].corr()"
   ]
  },
  {
   "cell_type": "markdown",
   "id": "ac9577bc",
   "metadata": {},
   "source": [
    "Moderate positive relationship: Pearson r = 0.5"
   ]
  },
  {
   "cell_type": "markdown",
   "id": "7d64bce7",
   "metadata": {},
   "source": [
    "### What are the 5 most popular genres?"
   ]
  },
  {
   "cell_type": "code",
   "execution_count": 29,
   "id": "5a75ac4c",
   "metadata": {},
   "outputs": [
    {
     "data": {
      "image/png": "[encoded data removed]",
      "text/plain": [
       "<Figure size 432x288 with 1 Axes>"
      ]
     },
     "metadata": {},
     "output_type": "display_data"
    },
    {
     "data": {
      "text/plain": [
       "Drama       4746\n",
       "Comedy      3775\n",
       "Thriller    2902\n",
       "Action      2376\n",
       "Romance     1708\n",
       "dtype: int64"
      ]
     },
     "execution_count": 29,
     "metadata": {},
     "output_type": "execute_result"
    }
   ],
   "source": [
    "genres_list = []\n",
    "for x in range (df.shape[0]):\n",
    "    Genre = str(df['genres'].iloc[x]).strip('[]').replace('|', ',').split(',')\n",
    "    for item in Genre:\n",
    "        genres_list.append(item)\n",
    "    x +=1\n",
    "\n",
    "pd.Series(genres_list).value_counts().nlargest(5).plot(kind = 'pie')\n",
    "plt.title('Most popular genres')\n",
    "plt.ylabel('')\n",
    "centre_circle = plt.Circle((0, 0), 0.30, fc='white')\n",
    "fig = plt.gcf()\n",
    "fig.gca().add_artist(centre_circle)\n",
    "plt.show()\n",
    "\n",
    "\n",
    "pd.Series(genres_list).value_counts().nlargest(5)"
   ]
  },
  {
   "cell_type": "markdown",
   "id": "122dac00",
   "metadata": {},
   "source": [
    "Above is an donut chart showing the 5 most popular genre"
   ]
  },
  {
   "cell_type": "markdown",
   "id": "fadcbf3c",
   "metadata": {},
   "source": [
    "### What are the 10 Highest grossing movies?"
   ]
  },
  {
   "cell_type": "code",
   "execution_count": 30,
   "id": "4f737299",
   "metadata": {},
   "outputs": [
    {
     "data": {
      "image/png": "[encoded data removed]",
      "text/plain": [
       "<Figure size 432x288 with 1 Axes>"
      ]
     },
     "metadata": {
      "needs_background": "light"
     },
     "output_type": "display_data"
    },
    {
     "data": {
      "text/html": [
       "<div>\n",
       "<style scoped>\n",
       "    .dataframe tbody tr th:only-of-type {\n",
       "        vertical-align: middle;\n",
       "    }\n",
       "\n",
       "    .dataframe tbody tr th {\n",
       "        vertical-align: top;\n",
       "    }\n",
       "\n",
       "    .dataframe thead th {\n",
       "        text-align: right;\n",
       "    }\n",
       "</style>\n",
       "<table border=\"1\" class=\"dataframe\">\n",
       "  <thead>\n",
       "    <tr style=\"text-align: right;\">\n",
       "      <th></th>\n",
       "      <th>movie_title</th>\n",
       "      <th>revenue</th>\n",
       "    </tr>\n",
       "  </thead>\n",
       "  <tbody>\n",
       "    <tr>\n",
       "      <th>1386</th>\n",
       "      <td>Avatar</td>\n",
       "      <td>2781505847</td>\n",
       "    </tr>\n",
       "    <tr>\n",
       "      <th>3</th>\n",
       "      <td>Star Wars: The Force Awakens</td>\n",
       "      <td>2068178225</td>\n",
       "    </tr>\n",
       "    <tr>\n",
       "      <th>5231</th>\n",
       "      <td>Titanic</td>\n",
       "      <td>1845034188</td>\n",
       "    </tr>\n",
       "    <tr>\n",
       "      <th>4361</th>\n",
       "      <td>The Avengers</td>\n",
       "      <td>1519557910</td>\n",
       "    </tr>\n",
       "    <tr>\n",
       "      <th>0</th>\n",
       "      <td>Jurassic World</td>\n",
       "      <td>1513528810</td>\n",
       "    </tr>\n",
       "    <tr>\n",
       "      <th>4</th>\n",
       "      <td>Furious 7</td>\n",
       "      <td>1506249360</td>\n",
       "    </tr>\n",
       "    <tr>\n",
       "      <th>14</th>\n",
       "      <td>Avengers: Age of Ultron</td>\n",
       "      <td>1405035767</td>\n",
       "    </tr>\n",
       "    <tr>\n",
       "      <th>3374</th>\n",
       "      <td>Harry Potter and the Deathly Hallows: Part 2</td>\n",
       "      <td>1327817822</td>\n",
       "    </tr>\n",
       "    <tr>\n",
       "      <th>5422</th>\n",
       "      <td>Frozen</td>\n",
       "      <td>1274219009</td>\n",
       "    </tr>\n",
       "    <tr>\n",
       "      <th>5425</th>\n",
       "      <td>Iron Man 3</td>\n",
       "      <td>1215439994</td>\n",
       "    </tr>\n",
       "  </tbody>\n",
       "</table>\n",
       "</div>"
      ],
      "text/plain": [
       "                                       movie_title     revenue\n",
       "1386                                        Avatar  2781505847\n",
       "3                     Star Wars: The Force Awakens  2068178225\n",
       "5231                                       Titanic  1845034188\n",
       "4361                                  The Avengers  1519557910\n",
       "0                                   Jurassic World  1513528810\n",
       "4                                        Furious 7  1506249360\n",
       "14                         Avengers: Age of Ultron  1405035767\n",
       "3374  Harry Potter and the Deathly Hallows: Part 2  1327817822\n",
       "5422                                        Frozen  1274219009\n",
       "5425                                    Iron Man 3  1215439994"
      ]
     },
     "execution_count": 30,
     "metadata": {},
     "output_type": "execute_result"
    }
   ],
   "source": [
    "#Highest grossing movies\n",
    "df.groupby('movie_title').sum().revenue.nlargest(10).plot(kind='bar')\n",
    "plt.title('Highest grossing Movies')\n",
    "plt.xlabel('Movie Title')\n",
    "plt.ylabel('Revenue')\n",
    "plt.show()\n",
    "\n",
    "df[['movie_title', 'revenue']].sort_values(by='revenue', ascending=False).head(10)"
   ]
  },
  {
   "cell_type": "markdown",
   "id": "2554c988",
   "metadata": {},
   "source": [
    "The bar chart above is showing the top 10 highest grossing movies"
   ]
  },
  {
   "cell_type": "markdown",
   "id": "b8a89308",
   "metadata": {},
   "source": [
    "### Who are the most featured actors?"
   ]
  },
  {
   "cell_type": "code",
   "execution_count": 31,
   "id": "18b3e204",
   "metadata": {},
   "outputs": [
    {
     "data": {
      "image/png": "[encoded data removed]",
      "text/plain": [
       "<Figure size 432x288 with 1 Axes>"
      ]
     },
     "metadata": {
      "needs_background": "light"
     },
     "output_type": "display_data"
    },
    {
     "data": {
      "text/plain": [
       "Robert De Niro       72\n",
       "Samuel L. Jackson    71\n",
       "Bruce Willis         62\n",
       "Nicolas Cage         61\n",
       "Michael Caine        53\n",
       "Robin Williams       51\n",
       "John Cusack          50\n",
       "John Goodman         49\n",
       "Morgan Freeman       49\n",
       " Jr.                 48\n",
       "dtype: int64"
      ]
     },
     "execution_count": 31,
     "metadata": {},
     "output_type": "execute_result"
    }
   ],
   "source": [
    "#Leading actors\n",
    "actors = []\n",
    "for i in range (df.shape[0]):\n",
    "    actor = str(df['cast'].iloc[i]).strip('[]').replace('|', ',').split(',')\n",
    "    for item in actor:\n",
    "        actors.append(item)\n",
    "    i +=1\n",
    "    \n",
    "pd.Series(actors).value_counts().nlargest(10).plot(kind = 'barh', color='grey')\n",
    "plt.title('A-List actors')\n",
    "plt.ylabel('Actors')\n",
    "plt.xlabel('Appearances')\n",
    "plt.show()\n",
    "\n",
    "pd.Series(actors).value_counts().nlargest(10)"
   ]
  },
  {
   "cell_type": "markdown",
   "id": "bae1c5d2",
   "metadata": {},
   "source": [
    "The above is an horizontal bar chart showing most featured actors"
   ]
  },
  {
   "cell_type": "markdown",
   "id": "7804da20",
   "metadata": {},
   "source": [
    "### What are the 10 most profitable movies?"
   ]
  },
  {
   "cell_type": "code",
   "execution_count": 32,
   "id": "bb80dd83",
   "metadata": {},
   "outputs": [
    {
     "data": {
      "image/png": "[encoded data removed]",
      "text/plain": [
       "<Figure size 432x288 with 1 Axes>"
      ]
     },
     "metadata": {
      "needs_background": "light"
     },
     "output_type": "display_data"
    },
    {
     "data": {
      "text/plain": [
       "movie_title\n",
       "Avatar                                          2544505847\n",
       "Star Wars: The Force Awakens                    1868178225\n",
       "Titanic                                         1632034188\n",
       "Jurassic World                                  1363528810\n",
       "Furious 7                                       1316249360\n",
       "The Avengers                                    1288080742\n",
       "Harry Potter and the Deathly Hallows: Part 2    1202817822\n",
       "Frozen                                          1127284869\n",
       "Avengers: Age of Ultron                         1125035767\n",
       "The Net                                         1084279658\n",
       "Name: profit, dtype: int64"
      ]
     },
     "execution_count": 32,
     "metadata": {},
     "output_type": "execute_result"
    }
   ],
   "source": [
    "#Most profitable movie\n",
    "df.groupby('movie_title').sum().profit.nlargest(10).plot(kind='barh', color = 'pink')\n",
    "plt.title('Most profitable Movies')\n",
    "plt.ylabel('Movie Title')\n",
    "plt.xlabel('Revenue')\n",
    "plt.show()\n",
    "df.groupby('movie_title').sum().profit.nlargest(10)"
   ]
  },
  {
   "cell_type": "markdown",
   "id": "4ad201f5",
   "metadata": {},
   "source": [
    "The horizontal bar chart above shows the 10 most profitable movies"
   ]
  },
  {
   "cell_type": "markdown",
   "id": "82b893a9",
   "metadata": {},
   "source": [
    "### What is the sum of profit per year, most profitable year and the least profitable year?"
   ]
  },
  {
   "cell_type": "code",
   "execution_count": 33,
   "id": "518869aa",
   "metadata": {},
   "outputs": [
    {
     "data": {
      "text/html": [
       "<div>\n",
       "<style scoped>\n",
       "    .dataframe tbody tr th:only-of-type {\n",
       "        vertical-align: middle;\n",
       "    }\n",
       "\n",
       "    .dataframe tbody tr th {\n",
       "        vertical-align: top;\n",
       "    }\n",
       "\n",
       "    .dataframe thead th {\n",
       "        text-align: right;\n",
       "    }\n",
       "</style>\n",
       "<table border=\"1\" class=\"dataframe\">\n",
       "  <thead>\n",
       "    <tr style=\"text-align: right;\">\n",
       "      <th></th>\n",
       "      <th>profit</th>\n",
       "    </tr>\n",
       "    <tr>\n",
       "      <th>release_year</th>\n",
       "      <th></th>\n",
       "    </tr>\n",
       "  </thead>\n",
       "  <tbody>\n",
       "    <tr>\n",
       "      <th>1960</th>\n",
       "      <td>122948052</td>\n",
       "    </tr>\n",
       "    <tr>\n",
       "      <th>1961</th>\n",
       "      <td>291583188</td>\n",
       "    </tr>\n",
       "    <tr>\n",
       "      <th>1962</th>\n",
       "      <td>160857720</td>\n",
       "    </tr>\n",
       "    <tr>\n",
       "      <th>1963</th>\n",
       "      <td>114073489</td>\n",
       "    </tr>\n",
       "    <tr>\n",
       "      <th>1964</th>\n",
       "      <td>301498621</td>\n",
       "    </tr>\n",
       "    <tr>\n",
       "      <th>1965</th>\n",
       "      <td>387876739</td>\n",
       "    </tr>\n",
       "    <tr>\n",
       "      <th>1966</th>\n",
       "      <td>27181889</td>\n",
       "    </tr>\n",
       "    <tr>\n",
       "      <th>1967</th>\n",
       "      <td>637182637</td>\n",
       "    </tr>\n",
       "    <tr>\n",
       "      <th>1968</th>\n",
       "      <td>192793980</td>\n",
       "    </tr>\n",
       "    <tr>\n",
       "      <th>1969</th>\n",
       "      <td>201827989</td>\n",
       "    </tr>\n",
       "    <tr>\n",
       "      <th>1970</th>\n",
       "      <td>433260023</td>\n",
       "    </tr>\n",
       "    <tr>\n",
       "      <th>1971</th>\n",
       "      <td>328913610</td>\n",
       "    </tr>\n",
       "    <tr>\n",
       "      <th>1972</th>\n",
       "      <td>458450917</td>\n",
       "    </tr>\n",
       "    <tr>\n",
       "      <th>1973</th>\n",
       "      <td>1158790319</td>\n",
       "    </tr>\n",
       "    <tr>\n",
       "      <th>1974</th>\n",
       "      <td>735569818</td>\n",
       "    </tr>\n",
       "    <tr>\n",
       "      <th>1975</th>\n",
       "      <td>901210966</td>\n",
       "    </tr>\n",
       "    <tr>\n",
       "      <th>1976</th>\n",
       "      <td>678855600</td>\n",
       "    </tr>\n",
       "    <tr>\n",
       "      <th>1977</th>\n",
       "      <td>2019003159</td>\n",
       "    </tr>\n",
       "    <tr>\n",
       "      <th>1978</th>\n",
       "      <td>1160782648</td>\n",
       "    </tr>\n",
       "    <tr>\n",
       "      <th>1979</th>\n",
       "      <td>1429980913</td>\n",
       "    </tr>\n",
       "    <tr>\n",
       "      <th>1980</th>\n",
       "      <td>1406162387</td>\n",
       "    </tr>\n",
       "    <tr>\n",
       "      <th>1981</th>\n",
       "      <td>1400848450</td>\n",
       "    </tr>\n",
       "    <tr>\n",
       "      <th>1982</th>\n",
       "      <td>2020648850</td>\n",
       "    </tr>\n",
       "    <tr>\n",
       "      <th>1983</th>\n",
       "      <td>1788421908</td>\n",
       "    </tr>\n",
       "    <tr>\n",
       "      <th>1984</th>\n",
       "      <td>1906312454</td>\n",
       "    </tr>\n",
       "    <tr>\n",
       "      <th>1985</th>\n",
       "      <td>2127051755</td>\n",
       "    </tr>\n",
       "    <tr>\n",
       "      <th>1986</th>\n",
       "      <td>2298244668</td>\n",
       "    </tr>\n",
       "    <tr>\n",
       "      <th>1987</th>\n",
       "      <td>2752649036</td>\n",
       "    </tr>\n",
       "    <tr>\n",
       "      <th>1988</th>\n",
       "      <td>2816113601</td>\n",
       "    </tr>\n",
       "    <tr>\n",
       "      <th>1989</th>\n",
       "      <td>4085267358</td>\n",
       "    </tr>\n",
       "    <tr>\n",
       "      <th>1990</th>\n",
       "      <td>4025244594</td>\n",
       "    </tr>\n",
       "    <tr>\n",
       "      <th>1991</th>\n",
       "      <td>3240366796</td>\n",
       "    </tr>\n",
       "    <tr>\n",
       "      <th>1992</th>\n",
       "      <td>4640387847</td>\n",
       "    </tr>\n",
       "    <tr>\n",
       "      <th>1993</th>\n",
       "      <td>5175522514</td>\n",
       "    </tr>\n",
       "    <tr>\n",
       "      <th>1994</th>\n",
       "      <td>4866222145</td>\n",
       "    </tr>\n",
       "    <tr>\n",
       "      <th>1995</th>\n",
       "      <td>6290456783</td>\n",
       "    </tr>\n",
       "    <tr>\n",
       "      <th>1996</th>\n",
       "      <td>4624450228</td>\n",
       "    </tr>\n",
       "    <tr>\n",
       "      <th>1997</th>\n",
       "      <td>5904086559</td>\n",
       "    </tr>\n",
       "    <tr>\n",
       "      <th>1998</th>\n",
       "      <td>4993514938</td>\n",
       "    </tr>\n",
       "    <tr>\n",
       "      <th>1999</th>\n",
       "      <td>5590477473</td>\n",
       "    </tr>\n",
       "    <tr>\n",
       "      <th>2000</th>\n",
       "      <td>5226001012</td>\n",
       "    </tr>\n",
       "    <tr>\n",
       "      <th>2001</th>\n",
       "      <td>7768139139</td>\n",
       "    </tr>\n",
       "    <tr>\n",
       "      <th>2002</th>\n",
       "      <td>8751964965</td>\n",
       "    </tr>\n",
       "    <tr>\n",
       "      <th>2003</th>\n",
       "      <td>8898385848</td>\n",
       "    </tr>\n",
       "    <tr>\n",
       "      <th>2004</th>\n",
       "      <td>9623482396</td>\n",
       "    </tr>\n",
       "    <tr>\n",
       "      <th>2005</th>\n",
       "      <td>9173550759</td>\n",
       "    </tr>\n",
       "    <tr>\n",
       "      <th>2006</th>\n",
       "      <td>8971854085</td>\n",
       "    </tr>\n",
       "    <tr>\n",
       "      <th>2007</th>\n",
       "      <td>11783099666</td>\n",
       "    </tr>\n",
       "    <tr>\n",
       "      <th>2008</th>\n",
       "      <td>11643762541</td>\n",
       "    </tr>\n",
       "    <tr>\n",
       "      <th>2009</th>\n",
       "      <td>13589336503</td>\n",
       "    </tr>\n",
       "    <tr>\n",
       "      <th>2010</th>\n",
       "      <td>12604930539</td>\n",
       "    </tr>\n",
       "    <tr>\n",
       "      <th>2011</th>\n",
       "      <td>14677437926</td>\n",
       "    </tr>\n",
       "    <tr>\n",
       "      <th>2012</th>\n",
       "      <td>16363444772</td>\n",
       "    </tr>\n",
       "    <tr>\n",
       "      <th>2013</th>\n",
       "      <td>15472594656</td>\n",
       "    </tr>\n",
       "    <tr>\n",
       "      <th>2014</th>\n",
       "      <td>16405806546</td>\n",
       "    </tr>\n",
       "    <tr>\n",
       "      <th>2015</th>\n",
       "      <td>19165902961</td>\n",
       "    </tr>\n",
       "  </tbody>\n",
       "</table>\n",
       "</div>"
      ],
      "text/plain": [
       "                   profit\n",
       "release_year             \n",
       "1960            122948052\n",
       "1961            291583188\n",
       "1962            160857720\n",
       "1963            114073489\n",
       "1964            301498621\n",
       "1965            387876739\n",
       "1966             27181889\n",
       "1967            637182637\n",
       "1968            192793980\n",
       "1969            201827989\n",
       "1970            433260023\n",
       "1971            328913610\n",
       "1972            458450917\n",
       "1973           1158790319\n",
       "1974            735569818\n",
       "1975            901210966\n",
       "1976            678855600\n",
       "1977           2019003159\n",
       "1978           1160782648\n",
       "1979           1429980913\n",
       "1980           1406162387\n",
       "1981           1400848450\n",
       "1982           2020648850\n",
       "1983           1788421908\n",
       "1984           1906312454\n",
       "1985           2127051755\n",
       "1986           2298244668\n",
       "1987           2752649036\n",
       "1988           2816113601\n",
       "1989           4085267358\n",
       "1990           4025244594\n",
       "1991           3240366796\n",
       "1992           4640387847\n",
       "1993           5175522514\n",
       "1994           4866222145\n",
       "1995           6290456783\n",
       "1996           4624450228\n",
       "1997           5904086559\n",
       "1998           4993514938\n",
       "1999           5590477473\n",
       "2000           5226001012\n",
       "2001           7768139139\n",
       "2002           8751964965\n",
       "2003           8898385848\n",
       "2004           9623482396\n",
       "2005           9173550759\n",
       "2006           8971854085\n",
       "2007          11783099666\n",
       "2008          11643762541\n",
       "2009          13589336503\n",
       "2010          12604930539\n",
       "2011          14677437926\n",
       "2012          16363444772\n",
       "2013          15472594656\n",
       "2014          16405806546\n",
       "2015          19165902961"
      ]
     },
     "execution_count": 33,
     "metadata": {},
     "output_type": "execute_result"
    }
   ],
   "source": [
    "profit_per_year = df.pivot_table(values = 'profit', index = 'release_year', aggfunc = \"sum\")\n",
    "profit_per_year.head(56)"
   ]
  },
  {
   "cell_type": "code",
   "execution_count": 34,
   "id": "d0bfb0ea",
   "metadata": {},
   "outputs": [
    {
     "data": {
      "text/plain": [
       "'The year with maximiun profit is 2015 while the year with the minimum profit is 1966.'"
      ]
     },
     "execution_count": 34,
     "metadata": {},
     "output_type": "execute_result"
    }
   ],
   "source": [
    "max_profit = df.groupby('release_year')['profit'].sum().idxmax()\n",
    "min_profit = df.groupby('release_year')['profit'].sum().idxmin()\n",
    "\"The year with maximiun profit is {} while the year with the minimum profit is {}.\".format(max_profit, min_profit)"
   ]
  },
  {
   "cell_type": "markdown",
   "id": "11e81901",
   "metadata": {},
   "source": [
    "The table above shows that the year with maximiun profit is 2015 while the year with the minimum profit is 1966."
   ]
  },
  {
   "cell_type": "markdown",
   "id": "e1c3ab2a",
   "metadata": {},
   "source": [
    "### What is the average rating per director?"
   ]
  },
  {
   "cell_type": "code",
   "execution_count": 35,
   "id": "680616e1",
   "metadata": {},
   "outputs": [
    {
     "data": {
      "image/png": "[encoded data removed]",
      "text/plain": [
       "<Figure size 432x288 with 1 Axes>"
      ]
     },
     "metadata": {
      "needs_background": "light"
     },
     "output_type": "display_data"
    },
    {
     "data": {
      "text/plain": [
       "director\n",
       "Mark Cousins                                  9.2\n",
       "David Mallet                                  8.7\n",
       "Curt Morgan                                   8.5\n",
       "Martin Scorsese|Michael Henry Wilson          8.5\n",
       "Saul Swimmer                                  8.5\n",
       "Anthony Mandler                               8.4\n",
       "D.A. Pennebaker|David Dawkins|Chris Hegedus   8.4\n",
       "Jorge RamÃ­rez SuÃ¡rez                        8.4\n",
       "Sam Dunn|Scot McFadyen                        8.4\n",
       "Andy Saunders                                 8.3\n",
       "Name: rating, dtype: float64"
      ]
     },
     "execution_count": 35,
     "metadata": {},
     "output_type": "execute_result"
    }
   ],
   "source": [
    "#average rating per director\n",
    "df.groupby('director').mean().rating.nlargest(10).plot(kind='bar', color='gold')\n",
    "plt.ylim(8, 9.5)\n",
    "plt.title('Average rating per Director')\n",
    "plt.xlabel('Director')\n",
    "plt.ylabel('Average Rating')\n",
    "plt.show()\n",
    "\n",
    "df.groupby('director').mean().rating.nlargest(10)"
   ]
  },
  {
   "cell_type": "markdown",
   "id": "7d271d03",
   "metadata": {},
   "source": [
    "The above viz shows the average rating per director"
   ]
  },
  {
   "cell_type": "markdown",
   "id": "a6523704",
   "metadata": {},
   "source": [
    "### What is the average rating per year?"
   ]
  },
  {
   "cell_type": "code",
   "execution_count": 36,
   "id": "ccf6e958",
   "metadata": {},
   "outputs": [
    {
     "data": {
      "image/png": "[encoded data removed]",
      "text/plain": [
       "<Figure size 432x288 with 1 Axes>"
      ]
     },
     "metadata": {
      "needs_background": "light"
     },
     "output_type": "display_data"
    },
    {
     "data": {
      "text/plain": [
       "release_year\n",
       "1973   6.7\n",
       "1972   6.5\n",
       "1970   6.5\n",
       "1974   6.4\n",
       "1971   6.4\n",
       "1975   6.4\n",
       "1961   6.4\n",
       "1968   6.4\n",
       "1962   6.3\n",
       "1976   6.3\n",
       "Name: rating, dtype: float64"
      ]
     },
     "execution_count": 36,
     "metadata": {},
     "output_type": "execute_result"
    }
   ],
   "source": [
    "#average rating per year\n",
    "df.groupby('release_year').mean().rating.nlargest(10).plot(kind='bar', color='purple')\n",
    "plt.ylim(6, 6.8)\n",
    "plt.title('Average rating per year')\n",
    "plt.xlabel('Release Year')\n",
    "plt.ylabel('Average Rating')\n",
    "plt.show()\n",
    "\n",
    "df.groupby('release_year').mean().rating.nlargest(10)"
   ]
  },
  {
   "cell_type": "markdown",
   "id": "d946feca",
   "metadata": {},
   "source": [
    "The above viz shows the average rating per year"
   ]
  },
  {
   "cell_type": "markdown",
   "id": "58abe559",
   "metadata": {},
   "source": [
    "### What are the most popular movies?"
   ]
  },
  {
   "cell_type": "code",
   "execution_count": 37,
   "id": "746471dd",
   "metadata": {},
   "outputs": [
    {
     "data": {
      "text/plain": [
       "movie_title\n",
       "Jurassic World                          33.0\n",
       "Mad Max: Fury Road                      28.4\n",
       "Interstellar                            24.9\n",
       "Guardians of the Galaxy                 14.3\n",
       "Insurgent                               13.1\n",
       "Captain America: The Winter Soldier     13.0\n",
       "Star Wars                               12.0\n",
       "John Wick                               11.4\n",
       "Star Wars: The Force Awakens            11.2\n",
       "The Hunger Games: Mockingjay - Part 1   10.7\n",
       "Name: popularity, dtype: float64"
      ]
     },
     "execution_count": 37,
     "metadata": {},
     "output_type": "execute_result"
    }
   ],
   "source": [
    "df.groupby('movie_title').max().popularity.nlargest(10)"
   ]
  },
  {
   "cell_type": "markdown",
   "id": "56a2babb",
   "metadata": {},
   "source": [
    "Listed above are the most popular movies"
   ]
  },
  {
   "cell_type": "markdown",
   "id": "d881d81b",
   "metadata": {},
   "source": [
    "### What is the number of movies per year?"
   ]
  },
  {
   "cell_type": "code",
   "execution_count": 38,
   "id": "ebce104d",
   "metadata": {},
   "outputs": [
    {
     "data": {
      "text/html": [
       "<div>\n",
       "<style scoped>\n",
       "    .dataframe tbody tr th:only-of-type {\n",
       "        vertical-align: middle;\n",
       "    }\n",
       "\n",
       "    .dataframe tbody tr th {\n",
       "        vertical-align: top;\n",
       "    }\n",
       "\n",
       "    .dataframe thead th {\n",
       "        text-align: right;\n",
       "    }\n",
       "</style>\n",
       "<table border=\"1\" class=\"dataframe\">\n",
       "  <thead>\n",
       "    <tr style=\"text-align: right;\">\n",
       "      <th></th>\n",
       "      <th>movie_title</th>\n",
       "    </tr>\n",
       "    <tr>\n",
       "      <th>release_year</th>\n",
       "      <th></th>\n",
       "    </tr>\n",
       "  </thead>\n",
       "  <tbody>\n",
       "    <tr>\n",
       "      <th>1960</th>\n",
       "      <td>32</td>\n",
       "    </tr>\n",
       "    <tr>\n",
       "      <th>1961</th>\n",
       "      <td>31</td>\n",
       "    </tr>\n",
       "    <tr>\n",
       "      <th>1962</th>\n",
       "      <td>32</td>\n",
       "    </tr>\n",
       "    <tr>\n",
       "      <th>1963</th>\n",
       "      <td>34</td>\n",
       "    </tr>\n",
       "    <tr>\n",
       "      <th>1964</th>\n",
       "      <td>42</td>\n",
       "    </tr>\n",
       "    <tr>\n",
       "      <th>1965</th>\n",
       "      <td>35</td>\n",
       "    </tr>\n",
       "    <tr>\n",
       "      <th>1966</th>\n",
       "      <td>46</td>\n",
       "    </tr>\n",
       "    <tr>\n",
       "      <th>1967</th>\n",
       "      <td>38</td>\n",
       "    </tr>\n",
       "    <tr>\n",
       "      <th>1968</th>\n",
       "      <td>38</td>\n",
       "    </tr>\n",
       "    <tr>\n",
       "      <th>1969</th>\n",
       "      <td>30</td>\n",
       "    </tr>\n",
       "    <tr>\n",
       "      <th>1970</th>\n",
       "      <td>40</td>\n",
       "    </tr>\n",
       "    <tr>\n",
       "      <th>1971</th>\n",
       "      <td>55</td>\n",
       "    </tr>\n",
       "    <tr>\n",
       "      <th>1972</th>\n",
       "      <td>40</td>\n",
       "    </tr>\n",
       "    <tr>\n",
       "      <th>1973</th>\n",
       "      <td>55</td>\n",
       "    </tr>\n",
       "    <tr>\n",
       "      <th>1974</th>\n",
       "      <td>46</td>\n",
       "    </tr>\n",
       "    <tr>\n",
       "      <th>1975</th>\n",
       "      <td>44</td>\n",
       "    </tr>\n",
       "    <tr>\n",
       "      <th>1976</th>\n",
       "      <td>47</td>\n",
       "    </tr>\n",
       "    <tr>\n",
       "      <th>1977</th>\n",
       "      <td>56</td>\n",
       "    </tr>\n",
       "    <tr>\n",
       "      <th>1978</th>\n",
       "      <td>65</td>\n",
       "    </tr>\n",
       "    <tr>\n",
       "      <th>1979</th>\n",
       "      <td>57</td>\n",
       "    </tr>\n",
       "    <tr>\n",
       "      <th>1980</th>\n",
       "      <td>78</td>\n",
       "    </tr>\n",
       "    <tr>\n",
       "      <th>1981</th>\n",
       "      <td>82</td>\n",
       "    </tr>\n",
       "    <tr>\n",
       "      <th>1982</th>\n",
       "      <td>81</td>\n",
       "    </tr>\n",
       "    <tr>\n",
       "      <th>1983</th>\n",
       "      <td>80</td>\n",
       "    </tr>\n",
       "    <tr>\n",
       "      <th>1984</th>\n",
       "      <td>104</td>\n",
       "    </tr>\n",
       "    <tr>\n",
       "      <th>1985</th>\n",
       "      <td>108</td>\n",
       "    </tr>\n",
       "    <tr>\n",
       "      <th>1986</th>\n",
       "      <td>120</td>\n",
       "    </tr>\n",
       "    <tr>\n",
       "      <th>1987</th>\n",
       "      <td>124</td>\n",
       "    </tr>\n",
       "    <tr>\n",
       "      <th>1988</th>\n",
       "      <td>142</td>\n",
       "    </tr>\n",
       "    <tr>\n",
       "      <th>1989</th>\n",
       "      <td>135</td>\n",
       "    </tr>\n",
       "    <tr>\n",
       "      <th>1990</th>\n",
       "      <td>132</td>\n",
       "    </tr>\n",
       "    <tr>\n",
       "      <th>1991</th>\n",
       "      <td>133</td>\n",
       "    </tr>\n",
       "    <tr>\n",
       "      <th>1992</th>\n",
       "      <td>132</td>\n",
       "    </tr>\n",
       "    <tr>\n",
       "      <th>1993</th>\n",
       "      <td>177</td>\n",
       "    </tr>\n",
       "    <tr>\n",
       "      <th>1994</th>\n",
       "      <td>184</td>\n",
       "    </tr>\n",
       "    <tr>\n",
       "      <th>1995</th>\n",
       "      <td>174</td>\n",
       "    </tr>\n",
       "    <tr>\n",
       "      <th>1996</th>\n",
       "      <td>203</td>\n",
       "    </tr>\n",
       "    <tr>\n",
       "      <th>1997</th>\n",
       "      <td>191</td>\n",
       "    </tr>\n",
       "    <tr>\n",
       "      <th>1998</th>\n",
       "      <td>210</td>\n",
       "    </tr>\n",
       "    <tr>\n",
       "      <th>1999</th>\n",
       "      <td>224</td>\n",
       "    </tr>\n",
       "    <tr>\n",
       "      <th>2000</th>\n",
       "      <td>224</td>\n",
       "    </tr>\n",
       "    <tr>\n",
       "      <th>2001</th>\n",
       "      <td>241</td>\n",
       "    </tr>\n",
       "    <tr>\n",
       "      <th>2002</th>\n",
       "      <td>264</td>\n",
       "    </tr>\n",
       "    <tr>\n",
       "      <th>2003</th>\n",
       "      <td>281</td>\n",
       "    </tr>\n",
       "    <tr>\n",
       "      <th>2004</th>\n",
       "      <td>307</td>\n",
       "    </tr>\n",
       "    <tr>\n",
       "      <th>2005</th>\n",
       "      <td>361</td>\n",
       "    </tr>\n",
       "    <tr>\n",
       "      <th>2006</th>\n",
       "      <td>404</td>\n",
       "    </tr>\n",
       "    <tr>\n",
       "      <th>2007</th>\n",
       "      <td>432</td>\n",
       "    </tr>\n",
       "    <tr>\n",
       "      <th>2008</th>\n",
       "      <td>486</td>\n",
       "    </tr>\n",
       "    <tr>\n",
       "      <th>2009</th>\n",
       "      <td>525</td>\n",
       "    </tr>\n",
       "    <tr>\n",
       "      <th>2010</th>\n",
       "      <td>475</td>\n",
       "    </tr>\n",
       "    <tr>\n",
       "      <th>2011</th>\n",
       "      <td>532</td>\n",
       "    </tr>\n",
       "    <tr>\n",
       "      <th>2012</th>\n",
       "      <td>574</td>\n",
       "    </tr>\n",
       "    <tr>\n",
       "      <th>2013</th>\n",
       "      <td>649</td>\n",
       "    </tr>\n",
       "    <tr>\n",
       "      <th>2014</th>\n",
       "      <td>682</td>\n",
       "    </tr>\n",
       "    <tr>\n",
       "      <th>2015</th>\n",
       "      <td>617</td>\n",
       "    </tr>\n",
       "  </tbody>\n",
       "</table>\n",
       "</div>"
      ],
      "text/plain": [
       "              movie_title\n",
       "release_year             \n",
       "1960                   32\n",
       "1961                   31\n",
       "1962                   32\n",
       "1963                   34\n",
       "1964                   42\n",
       "1965                   35\n",
       "1966                   46\n",
       "1967                   38\n",
       "1968                   38\n",
       "1969                   30\n",
       "1970                   40\n",
       "1971                   55\n",
       "1972                   40\n",
       "1973                   55\n",
       "1974                   46\n",
       "1975                   44\n",
       "1976                   47\n",
       "1977                   56\n",
       "1978                   65\n",
       "1979                   57\n",
       "1980                   78\n",
       "1981                   82\n",
       "1982                   81\n",
       "1983                   80\n",
       "1984                  104\n",
       "1985                  108\n",
       "1986                  120\n",
       "1987                  124\n",
       "1988                  142\n",
       "1989                  135\n",
       "1990                  132\n",
       "1991                  133\n",
       "1992                  132\n",
       "1993                  177\n",
       "1994                  184\n",
       "1995                  174\n",
       "1996                  203\n",
       "1997                  191\n",
       "1998                  210\n",
       "1999                  224\n",
       "2000                  224\n",
       "2001                  241\n",
       "2002                  264\n",
       "2003                  281\n",
       "2004                  307\n",
       "2005                  361\n",
       "2006                  404\n",
       "2007                  432\n",
       "2008                  486\n",
       "2009                  525\n",
       "2010                  475\n",
       "2011                  532\n",
       "2012                  574\n",
       "2013                  649\n",
       "2014                  682\n",
       "2015                  617"
      ]
     },
     "execution_count": 38,
     "metadata": {},
     "output_type": "execute_result"
    }
   ],
   "source": [
    "#movies per year\n",
    "movies_per_year = df.pivot_table(values = 'movie_title', index = 'release_year', aggfunc = \"count\")\n",
    "movies_per_year.head(56)"
   ]
  },
  {
   "cell_type": "code",
   "execution_count": 39,
   "id": "a12b6998",
   "metadata": {},
   "outputs": [
    {
     "data": {
      "text/plain": [
       "'The year with highest number of movies released is 2014 while the year with the lowest number movies released is 1969.'"
      ]
     },
     "execution_count": 39,
     "metadata": {},
     "output_type": "execute_result"
    }
   ],
   "source": [
    "max_movies = df.groupby('release_year')['movie_title'].count().idxmax()\n",
    "min_movies = df.groupby('release_year')['movie_title'].count().idxmin()\n",
    "\"The year with highest number of movies released is {} while the year with the lowest number movies released is {}.\".format(max_movies, min_movies)"
   ]
  },
  {
   "cell_type": "markdown",
   "id": "e1eb93ea",
   "metadata": {},
   "source": [
    "Above shows that The year with highest number of movies released is 2014 while the year with the lowest number movies released is 1969."
   ]
  },
  {
   "cell_type": "markdown",
   "id": "17e96142",
   "metadata": {},
   "source": [
    "<a id='conclusions'></a>\n",
    "## Conclusions\n",
    "\n",
    "1. The most popular genres are: Drama, Comedy, Thriller, Action and Romance\n",
    "<br>\n",
    "2. The highest grossing movies are as below;\n",
    "Avatar -\t2781505847\n",
    "<br>\n",
    "Star Wars: The Force Awakens-\t2068178225\n",
    "<br>\n",
    "Titanic -\t1845034188\n",
    "<br>\n",
    "The Avengers -\t1519557910\n",
    "<br>\n",
    "Jurassic World -\t1513528810\n",
    "<br>\n",
    "Furious 7 -\t1506249360\n",
    "<br>\n",
    "Avengers: Age of Ultron\t -1405035767\n",
    "<br>\n",
    "Harry Potter and the Deathly Hallows: Part 2 -\t1327817822\n",
    "<br>\n",
    "Frozen\t- 1274219009\n",
    "<br>\n",
    "Iron Man 3\t- 1215439994\n",
    "<br>\n",
    "3. The most featured casts are: Robert De Niro, Samuel L. Jackson, Bruce Willis, Nicolas Cage, Michael Caine, Robin Williams, John Cusack, Morgan Freeman, John Goodman and Liam Neeson\n",
    "<br>\n",
    "4.  The most profitable movies are;\n",
    "<br>\n",
    "    Avatar                        -                  2544505847\n",
    "<br>\n",
    "    Star Wars: The Force Awakens     -               1868178225\n",
    "<br>\n",
    "    Titanic                           -              1632034188\n",
    "<br>\n",
    "    Jurassic World                   -               1363528810\n",
    "<br>\n",
    "    Furious 7                        -               1316249360\n",
    "<br>\n",
    "    The Avengers                              -      1288080742\n",
    "<br>\n",
    "    Harry Potter and the Deathly Hallows: Part 2   - 1202817822\n",
    "<br>\n",
    "    Frozen                  -                        1127284869\n",
    "<br>\n",
    "    Avengers: Age of Ultron      -                   1125035767\n",
    "<br>\n",
    "    The Net              -                           1084279658\n",
    "<br>\n",
    "5. The year with maximiun profit is 2015 while the year with the minimum profit is 1966.\n",
    "<br>\n",
    "6. Average rating per director is as below;\n",
    "<br>\n",
    "    Mark Cousins      -                            9.2\n",
    "<br>\n",
    "    David Mallet     -                             8.7\n",
    "<br>\n",
    "    Curt Morgan         -                          8.5\n",
    "<br>\n",
    "    Martin Scorsese|Michael Henry Wilson    -      8.5\n",
    "<br>\n",
    "    Saul Swimmer                           -       8.5\n",
    "<br>\n",
    "    Anthony Mandler                 -              8.4\n",
    "<br>\n",
    "    D.A. Pennebaker|David Dawkins|Chris Hegedus  - 8.4\n",
    "<br>\n",
    "    Jorge RamÃ­rez SuÃ¡rez      -                  8.4\n",
    "<br>\n",
    "    Sam Dunn|Scot McFadyen     -                   8.4\n",
    "<br>\n",
    "    Andy Saunders             -                    8.3\n",
    "<br>\n",
    "7. Average rating per year is as below;\n",
    "<br>\n",
    "1973 -   6.7\n",
    "<br>\n",
    "1972 -  6.5\n",
    "<br>\n",
    "1970 -   6.5\n",
    "<br>\n",
    "1974 -  6.4\n",
    "<br>\n",
    "1971 -  6.4\n",
    "<br>\n",
    "1975 -  6.4\n",
    "<br>\n",
    "1961 - 6.4\n",
    "<br>\n",
    "1968 - 6.4\n",
    "<br>\n",
    "1962 - 6.3\n",
    "<br>\n",
    "1976 -  6.3\n",
    "<br>\n",
    "8. The most popular movies are; Jurassic World, Mad Max: Fury Road, Interstellar, Guardians of the Galaxy, Insurgent, Captain America: The Winter Soldier, Star Wars, John Wick, Star Wars: The Force Awakens and The Hunger Games: Mockingjay - Part 1.\n",
    "<br>\n",
    "9. The year with highest number of movies released is 2014 while the year with the lowest number movies released is 1969.\n",
    "<br>"
   ]
  },
  {
   "cell_type": "markdown",
   "id": "cd986fa5",
   "metadata": {},
   "source": [
    "## Limitations\n",
    "\n",
    "* The most featured casts don't have the highest ratings\n",
    "* The highest grossing movie isn't the most profitable movie\n",
    "* The most profitable movie isn't the most popular movie\n",
    "* The year with the highest number of release didn't make highest profit"
   ]
  },
  {
   "cell_type": "markdown",
   "id": "1dd97e41",
   "metadata": {},
   "source": [
    "## Submitting your Project "
   ]
  },
  {
   "cell_type": "code",
   "execution_count": 40,
   "id": "c4c4cdbd",
   "metadata": {},
   "outputs": [
    {
     "data": {
      "text/plain": [
       "1"
      ]
     },
     "execution_count": 40,
     "metadata": {},
     "output_type": "execute_result"
    }
   ],
   "source": [
    "from subprocess import call\n",
    "call(['python', '-m', 'nbconvert', 'Investigate_a_Dataset.ipynb'])"
   ]
  },
  {
   "cell_type": "code",
   "execution_count": null,
   "id": "5a9ec5cc",
   "metadata": {},
   "outputs": [],
   "source": []
  }
 ],
 "metadata": {
  "kernelspec": {
   "display_name": "Python 3",
   "language": "python",
   "name": "python3"
  },
  "language_info": {
   "codemirror_mode": {
    "name": "ipython",
    "version": 3
   },
   "file_extension": ".py",
   "mimetype": "text/x-python",
   "name": "python",
   "nbconvert_exporter": "python",
   "pygments_lexer": "ipython3",
   "version": "3.8.8"
  }
 },
 "nbformat": 4,
 "nbformat_minor": 5
}
